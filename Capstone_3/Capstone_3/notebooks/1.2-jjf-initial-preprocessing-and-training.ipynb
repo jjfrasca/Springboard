{
 "cells": [
  {
   "cell_type": "markdown",
   "metadata": {},
   "source": [
    "# Preprocessing & Training\n",
    "## Predicting Rates of Chronic Absenteeism"
   ]
  },
  {
   "cell_type": "markdown",
   "metadata": {},
   "source": [
    "### Imports "
   ]
  },
  {
   "cell_type": "code",
   "execution_count": 1,
   "metadata": {},
   "outputs": [],
   "source": [
    "import pandas as pd\n",
    "import numpy as np\n",
    "import os\n",
    "import pickle\n",
    "import matplotlib.pyplot as plt\n",
    "import seaborn as sns\n",
    "from sklearn import __version__ as sklearn_version\n",
    "from sklearn.decomposition import PCA\n",
    "from sklearn.preprocessing import scale\n",
    "from sklearn.model_selection import train_test_split, cross_validate, GridSearchCV, learning_curve\n",
    "from sklearn.preprocessing import StandardScaler, MinMaxScaler\n",
    "from sklearn.dummy import DummyRegressor\n",
    "from sklearn.linear_model import LinearRegression\n",
    "from sklearn.ensemble import RandomForestRegressor\n",
    "from sklearn.metrics import r2_score, mean_squared_error, mean_absolute_error\n",
    "from sklearn.pipeline import make_pipeline\n",
    "from sklearn.impute import SimpleImputer\n",
    "from sklearn.feature_selection import SelectKBest, f_regression\n",
    "import datetime"
   ]
  },
  {
   "cell_type": "code",
   "execution_count": 2,
   "metadata": {},
   "outputs": [],
   "source": [
    "#load data\n",
    "path= '/Users/josephfrasca/Coding_Stuff/Springboard/Capstone_3/Capstone_3/data/interim'\n",
    "os.chdir(path)"
   ]
  },
  {
   "cell_type": "code",
   "execution_count": 3,
   "metadata": {},
   "outputs": [
    {
     "data": {
      "text/html": [
       "<div>\n",
       "<style scoped>\n",
       "    .dataframe tbody tr th:only-of-type {\n",
       "        vertical-align: middle;\n",
       "    }\n",
       "\n",
       "    .dataframe tbody tr th {\n",
       "        vertical-align: top;\n",
       "    }\n",
       "\n",
       "    .dataframe thead th {\n",
       "        text-align: right;\n",
       "    }\n",
       "</style>\n",
       "<table border=\"1\" class=\"dataframe\">\n",
       "  <thead>\n",
       "    <tr style=\"text-align: right;\">\n",
       "      <th></th>\n",
       "      <th>DBN</th>\n",
       "      <th>School Name</th>\n",
       "      <th>Grade</th>\n",
       "      <th>Year</th>\n",
       "      <th>Demographic Category</th>\n",
       "      <th>Demographic Variable</th>\n",
       "      <th># Total Days</th>\n",
       "      <th># Days Absent</th>\n",
       "      <th># Days Present</th>\n",
       "      <th>% Attendance</th>\n",
       "      <th># Contributing 20+ Total Days</th>\n",
       "      <th># Chronically Absent</th>\n",
       "      <th>% Chronically Absent</th>\n",
       "      <th>Next Year % Chronically Absent</th>\n",
       "    </tr>\n",
       "  </thead>\n",
       "  <tbody>\n",
       "    <tr>\n",
       "      <th>0</th>\n",
       "      <td>01M015</td>\n",
       "      <td>P.S. 015 Roberto Clemente</td>\n",
       "      <td>All Grades</td>\n",
       "      <td>2013-14</td>\n",
       "      <td>All Students</td>\n",
       "      <td>All Students</td>\n",
       "      <td>34803</td>\n",
       "      <td>2783.0</td>\n",
       "      <td>32020.0</td>\n",
       "      <td>92.0</td>\n",
       "      <td>216.0</td>\n",
       "      <td>58.0</td>\n",
       "      <td>26.9</td>\n",
       "      <td>23.4</td>\n",
       "    </tr>\n",
       "    <tr>\n",
       "      <th>1</th>\n",
       "      <td>01M015</td>\n",
       "      <td>P.S. 015 Roberto Clemente</td>\n",
       "      <td>PK in K-12 Schools</td>\n",
       "      <td>2013-14</td>\n",
       "      <td>All Students</td>\n",
       "      <td>All Students</td>\n",
       "      <td>4711</td>\n",
       "      <td>560.0</td>\n",
       "      <td>4151.0</td>\n",
       "      <td>88.1</td>\n",
       "      <td>30.0</td>\n",
       "      <td>16.0</td>\n",
       "      <td>53.3</td>\n",
       "      <td>65.2</td>\n",
       "    </tr>\n",
       "    <tr>\n",
       "      <th>2</th>\n",
       "      <td>01M015</td>\n",
       "      <td>P.S. 015 Roberto Clemente</td>\n",
       "      <td>0K</td>\n",
       "      <td>2013-14</td>\n",
       "      <td>All Students</td>\n",
       "      <td>All Students</td>\n",
       "      <td>7073</td>\n",
       "      <td>659.0</td>\n",
       "      <td>6414.0</td>\n",
       "      <td>90.7</td>\n",
       "      <td>44.0</td>\n",
       "      <td>13.0</td>\n",
       "      <td>29.5</td>\n",
       "      <td>30.0</td>\n",
       "    </tr>\n",
       "    <tr>\n",
       "      <th>3</th>\n",
       "      <td>01M015</td>\n",
       "      <td>P.S. 015 Roberto Clemente</td>\n",
       "      <td>1</td>\n",
       "      <td>2013-14</td>\n",
       "      <td>All Students</td>\n",
       "      <td>All Students</td>\n",
       "      <td>6739</td>\n",
       "      <td>525.0</td>\n",
       "      <td>6214.0</td>\n",
       "      <td>92.2</td>\n",
       "      <td>42.0</td>\n",
       "      <td>13.0</td>\n",
       "      <td>31.0</td>\n",
       "      <td>18.8</td>\n",
       "    </tr>\n",
       "    <tr>\n",
       "      <th>4</th>\n",
       "      <td>01M015</td>\n",
       "      <td>P.S. 015 Roberto Clemente</td>\n",
       "      <td>2</td>\n",
       "      <td>2013-14</td>\n",
       "      <td>All Students</td>\n",
       "      <td>All Students</td>\n",
       "      <td>3988</td>\n",
       "      <td>308.0</td>\n",
       "      <td>3680.0</td>\n",
       "      <td>92.3</td>\n",
       "      <td>25.0</td>\n",
       "      <td>5.0</td>\n",
       "      <td>20.0</td>\n",
       "      <td>21.9</td>\n",
       "    </tr>\n",
       "  </tbody>\n",
       "</table>\n",
       "</div>"
      ],
      "text/plain": [
       "      DBN                School Name               Grade     Year  \\\n",
       "0  01M015  P.S. 015 Roberto Clemente          All Grades  2013-14   \n",
       "1  01M015  P.S. 015 Roberto Clemente  PK in K-12 Schools  2013-14   \n",
       "2  01M015  P.S. 015 Roberto Clemente                  0K  2013-14   \n",
       "3  01M015  P.S. 015 Roberto Clemente                   1  2013-14   \n",
       "4  01M015  P.S. 015 Roberto Clemente                   2  2013-14   \n",
       "\n",
       "  Demographic Category Demographic Variable  # Total Days  # Days Absent  \\\n",
       "0         All Students         All Students         34803         2783.0   \n",
       "1         All Students         All Students          4711          560.0   \n",
       "2         All Students         All Students          7073          659.0   \n",
       "3         All Students         All Students          6739          525.0   \n",
       "4         All Students         All Students          3988          308.0   \n",
       "\n",
       "   # Days Present  % Attendance  # Contributing 20+ Total Days  \\\n",
       "0         32020.0          92.0                          216.0   \n",
       "1          4151.0          88.1                           30.0   \n",
       "2          6414.0          90.7                           44.0   \n",
       "3          6214.0          92.2                           42.0   \n",
       "4          3680.0          92.3                           25.0   \n",
       "\n",
       "   # Chronically Absent  % Chronically Absent  Next Year % Chronically Absent  \n",
       "0                  58.0                  26.9                            23.4  \n",
       "1                  16.0                  53.3                            65.2  \n",
       "2                  13.0                  29.5                            30.0  \n",
       "3                  13.0                  31.0                            18.8  \n",
       "4                   5.0                  20.0                            21.9  "
      ]
     },
     "execution_count": 3,
     "metadata": {},
     "output_type": "execute_result"
    }
   ],
   "source": [
    "attendance = pd.read_csv('attendance_with_nextYear.csv')\n",
    "attendance.head()"
   ]
  },
  {
   "cell_type": "code",
   "execution_count": null,
   "metadata": {},
   "outputs": [],
   "source": []
  },
  {
   "cell_type": "code",
   "execution_count": null,
   "metadata": {},
   "outputs": [],
   "source": [
    "#drop NaNs (due to DataNYC's respones)"
   ]
  },
  {
   "cell_type": "code",
   "execution_count": null,
   "metadata": {},
   "outputs": [],
   "source": [
    "#drop correlated values\n",
    "\n",
    "#Turn chronic absenteeism into categorical variable\n",
    "    #High = 2+ stand deviations above mean\n",
    "    #Med = +/- 1 std from mean\n",
    "    #Low 2+ std dev below mean\n",
    "\n",
    "\n",
    "##?Turn year into year start (ie. 2013) and year end (ie. 2014) so it can be an integer for ML later, steps:\n",
    "    #Start column - Strip anything after 4 strings, \n",
    "    #End column - start column + 1\n"
   ]
  },
  {
   "cell_type": "code",
   "execution_count": null,
   "metadata": {},
   "outputs": [],
   "source": []
  },
  {
   "cell_type": "markdown",
   "metadata": {},
   "source": [
    "## Create dummy or indicator features for categorical variables"
   ]
  },
  {
   "cell_type": "code",
   "execution_count": null,
   "metadata": {},
   "outputs": [],
   "source": [
    "#figure out Dealing with school id/name"
   ]
  },
  {
   "cell_type": "markdown",
   "metadata": {},
   "source": [
    "## Standardize the magnitude of numeric features using a scaler"
   ]
  },
  {
   "cell_type": "code",
   "execution_count": null,
   "metadata": {},
   "outputs": [],
   "source": [
    "#PCA check/cluster schools? (LOOK AT GUIDED CAPSTONE EDA?)"
   ]
  },
  {
   "cell_type": "markdown",
   "metadata": {},
   "source": [
    "## Split into testing and training datasets"
   ]
  },
  {
   "cell_type": "code",
   "execution_count": null,
   "metadata": {},
   "outputs": [],
   "source": [
    "#Take out 2019 data for later prediction\n",
    "#Time series Train test split \n",
    "#y=next_year_chronic_absenteeism\n"
   ]
  }
 ],
 "metadata": {
  "kernelspec": {
   "display_name": "Python 3",
   "language": "python",
   "name": "python3"
  },
  "language_info": {
   "codemirror_mode": {
    "name": "ipython",
    "version": 3
   },
   "file_extension": ".py",
   "mimetype": "text/x-python",
   "name": "python",
   "nbconvert_exporter": "python",
   "pygments_lexer": "ipython3",
   "version": "3.7.6"
  }
 },
 "nbformat": 4,
 "nbformat_minor": 4
}
