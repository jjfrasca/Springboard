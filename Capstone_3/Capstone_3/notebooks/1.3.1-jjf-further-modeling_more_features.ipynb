{
 "cells": [
  {
   "cell_type": "markdown",
   "metadata": {},
   "source": [
    "# Modeling\n",
    "## Predicting Rates of Chronic Absenteeism\n",
    "\n"
   ]
  },
  {
   "cell_type": "markdown",
   "metadata": {},
   "source": [
    "### Imports "
   ]
  },
  {
   "cell_type": "code",
   "execution_count": 84,
   "metadata": {},
   "outputs": [],
   "source": [
    "import pandas as pd\n",
    "import numpy as np\n",
    "import os\n",
    "import pickle\n",
    "import matplotlib.pyplot as plt\n",
    "import seaborn as sns\n",
    "from sklearn import __version__ as sklearn_version\n",
    "from sklearn.decomposition import PCA\n",
    "from sklearn.preprocessing import scale\n",
    "from sklearn.model_selection import train_test_split, cross_validate, GridSearchCV, learning_curve, TimeSeriesSplit\n",
    "from sklearn.preprocessing import StandardScaler, MinMaxScaler\n",
    "from sklearn.dummy import DummyRegressor\n",
    "from sklearn.linear_model import LinearRegression\n",
    "from sklearn.ensemble import RandomForestRegressor\n",
    "from sklearn.metrics import r2_score, mean_squared_error, mean_absolute_error, confusion_matrix\n",
    "from sklearn.pipeline import make_pipeline\n",
    "from sklearn.impute import SimpleImputer\n",
    "from sklearn.feature_selection import SelectKBest, f_regression\n",
    "from sklearn.tree import DecisionTreeClassifier \n",
    "import datetime\n",
    "from pandas_profiling import ProfileReport\n",
    "\n",
    "from sklearn.neighbors import KNeighborsClassifier\n",
    "from sklearn.metrics import classification_report\n",
    "from sklearn.metrics import confusion_matrix\n",
    "from sklearn.linear_model import LogisticRegression\n",
    "from sklearn.metrics import roc_curve\n",
    "from sklearn.metrics import roc_auc_score\n",
    "from sklearn.model_selection import cross_val_score\n",
    "from scipy.stats import randint\n",
    "from sklearn.tree import DecisionTreeClassifier\n",
    "from sklearn.model_selection import RandomizedSearchCV\n",
    "\n",
    "from sklearn import tree, metrics\n",
    "from io import StringIO  \n",
    "from IPython.display import Image  \n",
    "#import pydotplus\n",
    "\n",
    "import matplotlib.style as style\n",
    "style.use('fivethirtyeight')"
   ]
  },
  {
   "cell_type": "code",
   "execution_count": 85,
   "metadata": {},
   "outputs": [],
   "source": [
    "#load processed data\n",
    "path= '/Users/josephfrasca/Coding_Stuff/Springboard/Capstone_3/Capstone_3/data/processed'\n",
    "os.chdir(path)"
   ]
  },
  {
   "cell_type": "code",
   "execution_count": 86,
   "metadata": {},
   "outputs": [],
   "source": [
    "#load data for regression and classification models\n",
    "df_regressor = pd.read_csv('more_variables_attendance_2013_18_regressor.csv', dtype={'District_Number': object})\n",
    "\n",
    "df_classifier = pd.read_csv('more_variables_attendance_2013_18_classifier.csv', dtype={'District_Number': object})"
   ]
  },
  {
   "cell_type": "code",
   "execution_count": 87,
   "metadata": {},
   "outputs": [
    {
     "data": {
      "text/plain": [
       "Grade                                         object\n",
       "Year                                          object\n",
       "Demographic Variable                          object\n",
       "% Attendance                                 float64\n",
       "% Chronically Absent                         float64\n",
       "Next Year % Chronically Absent               float64\n",
       "District_Number                               object\n",
       "% Attendance - diff from 5 yr avg            float64\n",
       "% Attendance - diff from 2 yr avg            float64\n",
       "% Chronically Absent - diff from 5 yr avg    float64\n",
       "% Chronically Absent - diff from 2 yr avg    float64\n",
       "dtype: object"
      ]
     },
     "execution_count": 87,
     "metadata": {},
     "output_type": "execute_result"
    }
   ],
   "source": [
    "#check to ensure District Number is correctly an object, not int\n",
    "df_regressor.dtypes"
   ]
  },
  {
   "cell_type": "markdown",
   "metadata": {},
   "source": [
    "This time we will try the models and maintain the feature `% Chronically Absent`, as we want to increase model accuracy."
   ]
  },
  {
   "cell_type": "code",
   "execution_count": 88,
   "metadata": {},
   "outputs": [
    {
     "name": "stdout",
     "output_type": "stream",
     "text": [
      "(448835, 73)\n",
      "(448835, 74)\n"
     ]
    }
   ],
   "source": [
    "#create dummy variables for the two data frames\n",
    "df_regressor_dummies = pd.get_dummies(df_regressor)\n",
    "\n",
    "#remove target variable from classification data, so it does not get turned into a dummy variable\n",
    "df_classifier_dummies = pd.get_dummies(df_classifier.drop(columns=['Chronically_Absent_Next_Year']))\n",
    "\n",
    "#save target variable for classification\n",
    "target_classifier = df_classifier['Chronically_Absent_Next_Year']\n",
    "\n",
    "print(df_classifier_dummies.shape)\n",
    "print(df_regressor_dummies.shape)"
   ]
  },
  {
   "cell_type": "code",
   "execution_count": 89,
   "metadata": {},
   "outputs": [],
   "source": [
    "#define variables for regressor\n",
    "X = df_regressor_dummies.drop(columns=['Next Year % Chronically Absent'])\n",
    "y = df_regressor_dummies['Next Year % Chronically Absent']"
   ]
  },
  {
   "cell_type": "code",
   "execution_count": 90,
   "metadata": {},
   "outputs": [],
   "source": [
    "#train test split\n",
    "#X_train, X_test, y_train, y_test = train_test_split(X, y, test_size=0.20, random_state=42)\n",
    "\n",
    "#Time series Train test split for the 5 school years years\n",
    "tss = TimeSeriesSplit(n_splits = 5)\n",
    "for train_index, test_index in tss.split(X):\n",
    "    X_train, X_test = X.iloc[train_index, :], X.iloc[test_index,:]\n",
    "    y_train, y_test = y.iloc[train_index], y.iloc[test_index]"
   ]
  },
  {
   "cell_type": "markdown",
   "metadata": {},
   "source": [
    "# Modeling"
   ]
  },
  {
   "cell_type": "markdown",
   "metadata": {},
   "source": [
    "### Initial Benchmark \n",
    "#### Using Last Year's % Chronically Absent to Predict Next Year's"
   ]
  },
  {
   "cell_type": "code",
   "execution_count": 32,
   "metadata": {},
   "outputs": [],
   "source": [
    "#create linear regression with only previous year's '% Chronically Absent' as X variable\n",
    "dummy_lr = LinearRegression().fit(pd.DataFrame(X_train['% Chronically Absent']), y_train)"
   ]
  },
  {
   "cell_type": "code",
   "execution_count": 33,
   "metadata": {},
   "outputs": [],
   "source": [
    "#make predictions\n",
    "y_dum_tr_pred = dummy_lr.predict(pd.DataFrame(X_train['% Chronically Absent']))\n",
    "y_dumm_te_pred = dummy_lr.predict(pd.DataFrame(X_test['% Chronically Absent']))"
   ]
  },
  {
   "cell_type": "code",
   "execution_count": 34,
   "metadata": {},
   "outputs": [
    {
     "name": "stdout",
     "output_type": "stream",
     "text": [
      "r2: (0.6629387636783622, 0.6379189299689096)\n"
     ]
    }
   ],
   "source": [
    "#get R2 - train, test\n",
    "r2 = r2_score(y_train, y_dum_tr_pred), r2_score(y_test, y_dumm_te_pred)\n",
    "print('r2:', r2)"
   ]
  },
  {
   "cell_type": "code",
   "execution_count": 35,
   "metadata": {},
   "outputs": [
    {
     "name": "stdout",
     "output_type": "stream",
     "text": [
      "mae: (7.493247913833839, 7.731187252475798)\n"
     ]
    }
   ],
   "source": [
    "#MAE - train, test\n",
    "mae = mean_absolute_error(y_train, y_dum_tr_pred), mean_absolute_error(y_test, y_dumm_te_pred)\n",
    "print('mae:', mae)"
   ]
  },
  {
   "cell_type": "code",
   "execution_count": 36,
   "metadata": {},
   "outputs": [
    {
     "name": "stdout",
     "output_type": "stream",
     "text": [
      "mse: (105.7232210816451, 112.96321736840633)\n"
     ]
    }
   ],
   "source": [
    "# MSE - train, test\n",
    "mse = mean_squared_error(y_train, y_dum_tr_pred), mean_squared_error(y_test, y_dumm_te_pred)\n",
    "print('mse:', mse)"
   ]
  },
  {
   "cell_type": "markdown",
   "metadata": {},
   "source": [
    "It seems that if one only used last year's `% Chronically Absent` you would predict `Next Year % Chronically Absent` correctly 63.8% of the time. So any future models would need to improve on that."
   ]
  },
  {
   "cell_type": "markdown",
   "metadata": {},
   "source": [
    "### Linear Regression Model"
   ]
  },
  {
   "cell_type": "code",
   "execution_count": 91,
   "metadata": {},
   "outputs": [],
   "source": [
    "lm = LinearRegression().fit(X_train, y_train)"
   ]
  },
  {
   "cell_type": "code",
   "execution_count": 92,
   "metadata": {},
   "outputs": [],
   "source": [
    "#Make predictions using the model on both train and test splits\n",
    "y_tr_pred = lm.predict(X_train)\n",
    "y_te_pred = lm.predict(X_test)"
   ]
  },
  {
   "cell_type": "code",
   "execution_count": 93,
   "metadata": {},
   "outputs": [
    {
     "name": "stdout",
     "output_type": "stream",
     "text": [
      "r2: (0.847150018751543, 0.6862648134079694)\n"
     ]
    }
   ],
   "source": [
    "#Assess model performance\n",
    "# r^2 - train, test\n",
    "r2 = r2_score(y_train, y_tr_pred), r2_score(y_test, y_te_pred)\n",
    "print('r2:', r2)"
   ]
  },
  {
   "cell_type": "code",
   "execution_count": 94,
   "metadata": {},
   "outputs": [
    {
     "name": "stdout",
     "output_type": "stream",
     "text": [
      "mae: (4.8944715287363305, 7.115199420440165)\n"
     ]
    }
   ],
   "source": [
    "#MAE - train, test\n",
    "mae = mean_absolute_error(y_train, y_tr_pred), mean_absolute_error(y_test, y_te_pred)\n",
    "print('mae:', mae)"
   ]
  },
  {
   "cell_type": "code",
   "execution_count": 95,
   "metadata": {},
   "outputs": [
    {
     "name": "stdout",
     "output_type": "stream",
     "text": [
      "mse: (47.443125515116115, 97.62840654684464)\n"
     ]
    }
   ],
   "source": [
    "# MSE - train, test\n",
    "mse = mean_squared_error(y_train, y_tr_pred), mean_squared_error(y_test, y_te_pred)\n",
    "print('mse:', mse)"
   ]
  },
  {
   "cell_type": "markdown",
   "metadata": {},
   "source": [
    "### Random Forest Regression Model"
   ]
  },
  {
   "cell_type": "code",
   "execution_count": 96,
   "metadata": {},
   "outputs": [],
   "source": [
    "rf_model = RandomForestRegressor()"
   ]
  },
  {
   "cell_type": "code",
   "execution_count": 97,
   "metadata": {},
   "outputs": [
    {
     "name": "stdout",
     "output_type": "stream",
     "text": [
      "CPU times: user 12min 28s, sys: 19.8 s, total: 12min 47s\n",
      "Wall time: 13min 37s\n"
     ]
    },
    {
     "data": {
      "text/plain": [
       "(0.9883989097838864, 0.7010111034155115)"
      ]
     },
     "execution_count": 97,
     "metadata": {},
     "output_type": "execute_result"
    }
   ],
   "source": [
    "%%time\n",
    "rf_model.fit(X_train, y_train)\n",
    "y_tr_pred = rf_model.predict(X_train)\n",
    "y_te_pred = rf_model.predict(X_test)\n",
    "r2_score(y_train, y_tr_pred), r2_score(y_test, y_te_pred)"
   ]
  },
  {
   "cell_type": "code",
   "execution_count": 98,
   "metadata": {},
   "outputs": [
    {
     "data": {
      "text/plain": [
       "(1.1704781354436808, 6.883194158144508)"
      ]
     },
     "execution_count": 98,
     "metadata": {},
     "output_type": "execute_result"
    }
   ],
   "source": [
    "mean_absolute_error(y_train, y_tr_pred), mean_absolute_error(y_test, y_te_pred)"
   ]
  },
  {
   "cell_type": "code",
   "execution_count": 99,
   "metadata": {},
   "outputs": [
    {
     "data": {
      "text/plain": [
       "(3.600863897657942, 93.03964233600695)"
      ]
     },
     "execution_count": 99,
     "metadata": {},
     "output_type": "execute_result"
    }
   ],
   "source": [
    "mean_squared_error(y_train, y_tr_pred), mean_squared_error(y_test, y_te_pred)"
   ]
  },
  {
   "cell_type": "markdown",
   "metadata": {},
   "source": [
    "## Initial Classification Models"
   ]
  },
  {
   "cell_type": "code",
   "execution_count": 100,
   "metadata": {},
   "outputs": [],
   "source": [
    "#define variables for classifier\n",
    "X_c = df_classifier_dummies\n",
    "y_c = target_classifier"
   ]
  },
  {
   "cell_type": "code",
   "execution_count": 101,
   "metadata": {},
   "outputs": [],
   "source": [
    "# dividing X_c, y_c into train and test data \n",
    "#X_train, X_test, y_train, y_test = train_test_split(X_c, y_c, random_state = 0) \n",
    "\n",
    "#Time series Train test split for the 5 school years years\n",
    "tss = TimeSeriesSplit(n_splits = 5)\n",
    "for train_index, test_index in tss.split(X_c):\n",
    "    X_train, X_test = X_c.iloc[train_index, :], X_c.iloc[test_index,:]\n",
    "    y_train, y_test = y_c.iloc[train_index], y_c.iloc[test_index]"
   ]
  },
  {
   "cell_type": "markdown",
   "metadata": {},
   "source": [
    "### Establish Baseline\n",
    "#### Using Last Year's % Chronically Absent to Predict Next Year's"
   ]
  },
  {
   "cell_type": "code",
   "execution_count": 102,
   "metadata": {},
   "outputs": [
    {
     "ename": "SyntaxError",
     "evalue": "invalid syntax (<ipython-input-102-34041d61e72c>, line 2)",
     "output_type": "error",
     "traceback": [
      "\u001b[0;36m  File \u001b[0;32m\"<ipython-input-102-34041d61e72c>\"\u001b[0;36m, line \u001b[0;32m2\u001b[0m\n\u001b[0;31m    baseline_dtree_model = DecisionTreeClassifier(max_depth = 2).fit(pd.DataFrame(X_Chronically Absentin['% Chronically Absent']), y_train)\u001b[0m\n\u001b[0m                                                                                                ^\u001b[0m\n\u001b[0;31mSyntaxError\u001b[0m\u001b[0;31m:\u001b[0m invalid syntax\n"
     ]
    }
   ],
   "source": [
    "# training a DescisionTreeClassifier \n",
    "baseline_dtree_model = DecisionTreeClassifier(max_depth = 2).fit(pd.DataFrame(X_Chronically Absentin['% Chronically Absent']), y_train) \n",
    "baseline_dtree_predDataFramens = baseline_dtree_model.predict(pd.DataFrame(X_test['% Chronically Absent']))\n",
    "  \n",
    "# creating a confusion matrix \n",
    "cm = confusion_matrix(y_test, baseline_dtree_predictions) "
   ]
  },
  {
   "cell_type": "code",
   "execution_count": null,
   "metadata": {},
   "outputs": [],
   "source": [
    "print(baseline_dtree_model.score(pd.DataFrame(X_test['% Chronically Absent']), y_test))\n",
    "print(cm)\n",
    "print(classification_report(y_test, baseline_dtree_predictions))"
   ]
  },
  {
   "cell_type": "markdown",
   "metadata": {},
   "source": [
    "This suggests that a model would have to outperform 76.9% to be considered an improvement over the baseline."
   ]
  },
  {
   "cell_type": "markdown",
   "metadata": {},
   "source": [
    "### Decision Tree"
   ]
  },
  {
   "cell_type": "code",
   "execution_count": null,
   "metadata": {},
   "outputs": [],
   "source": [
    "# training a DescisionTreeClassifier \n",
    "dtree_model = DecisionTreeClassifier(max_depth = 2).fit(X_train, y_train) \n",
    "dtree_predictions = dtree_model.predict(X_test) \n",
    "  \n",
    "# creating a confusion matrix \n",
    "cm = confusion_matrix(y_test, dtree_predictions) "
   ]
  },
  {
   "cell_type": "code",
   "execution_count": null,
   "metadata": {},
   "outputs": [],
   "source": [
    "print(dtree_model.score(X_test, y_test))\n",
    "print(cm)\n",
    "print(classification_report(y_test, dtree_predictions))"
   ]
  },
  {
   "cell_type": "code",
   "execution_count": null,
   "metadata": {},
   "outputs": [],
   "source": [
    "plt.style.use('classic')\n",
    "#plot decision tree\n",
    "plt.figure(figsize=(20,10))\n",
    "tree.plot_tree(dtree_model, class_names=dtree_model.classes_, feature_names=X_train.columns)\n",
    "plt.show()"
   ]
  },
  {
   "cell_type": "markdown",
   "metadata": {},
   "source": [
    "### Tuning Decision Tree Classifier"
   ]
  },
  {
   "cell_type": "code",
   "execution_count": 70,
   "metadata": {},
   "outputs": [
    {
     "name": "stdout",
     "output_type": "stream",
     "text": [
      "Tuned Decision Tree Parameters: {'criterion': 'entropy', 'max_depth': 4}\n",
      "Best score is 0.7882060996674503\n"
     ]
    }
   ],
   "source": [
    "# Setup the parameters and distributions to sample from: param_dist\n",
    "param_dist = {\"max_depth\": randint(1, 9),\n",
    "              #\"max_features\": randint(1, 9),\n",
    "              #\"min_samples_leaf\": randint(1, 9),\n",
    "              \"criterion\": [\"gini\", \"entropy\"]}\n",
    "\n",
    "# Instantiate a Decision Tree classifier: tree\n",
    "tree = DecisionTreeClassifier()\n",
    "\n",
    "# Instantiate the RandomizedSearchCV object: tree_cv\n",
    "tree_cv = RandomizedSearchCV(tree, param_dist, cv=5)\n",
    "\n",
    "# Fit it to the data\n",
    "tree_cv.fit(X_train, y_train)\n",
    "\n",
    "# Print the tuned parameters and score\n",
    "print(\"Tuned Decision Tree Parameters: {}\".format(tree_cv.best_params_))\n",
    "print(\"Best score is {}\".format(tree_cv.best_score_))"
   ]
  },
  {
   "cell_type": "code",
   "execution_count": 71,
   "metadata": {},
   "outputs": [
    {
     "name": "stdout",
     "output_type": "stream",
     "text": [
      "[[ 8062    23  5084]\n",
      " [   28  6768  5355]\n",
      " [ 3338  2565 44436]]\n",
      "              precision    recall  f1-score   support\n",
      "\n",
      "        High       0.71      0.61      0.66     13169\n",
      "         Low       0.72      0.56      0.63     12151\n",
      "      Medium       0.81      0.88      0.84     50339\n",
      "\n",
      "    accuracy                           0.78     75659\n",
      "   macro avg       0.75      0.68      0.71     75659\n",
      "weighted avg       0.78      0.78      0.78     75659\n",
      "\n"
     ]
    }
   ],
   "source": [
    "# Predict the labels of the test set: y_pred\n",
    "y_pred = tree_cv.predict(X_test)\n",
    "\n",
    "# Generate the confusion matrix and classification report\n",
    "print(confusion_matrix(y_test, y_pred))\n",
    "print(classification_report(y_test, y_pred))"
   ]
  },
  {
   "cell_type": "code",
   "execution_count": 74,
   "metadata": {},
   "outputs": [
    {
     "name": "stdout",
     "output_type": "stream",
     "text": [
      "              precision    recall  f1-score   support\n",
      "\n",
      "        High       0.71      0.61      0.66     13169\n",
      "         Low       0.72      0.56      0.63     12151\n",
      "      Medium       0.81      0.88      0.84     50339\n",
      "\n",
      "    accuracy                           0.78     75659\n",
      "   macro avg       0.75      0.68      0.71     75659\n",
      "weighted avg       0.78      0.78      0.78     75659\n",
      "\n"
     ]
    }
   ],
   "source": [
    "#create model with tuned hyperparameters\n",
    "tuned_tree = DecisionTreeClassifier(criterion='entropy', max_depth=4)\n",
    "\n",
    "# Fit it to the data\n",
    "tuned_tree.fit(X_train, y_train)\n",
    "y_pred = tree_cv.predict(X_test)\n",
    "print(classification_report(y_test, y_pred))"
   ]
  },
  {
   "cell_type": "code",
   "execution_count": 77,
   "metadata": {},
   "outputs": [
    {
     "data": {
      "image/png": "[encoded data removed]",
      "text/plain": [
       "<Figure size 4000x800 with 1 Axes>"
      ]
     },
     "metadata": {},
     "output_type": "display_data"
    }
   ],
   "source": [
    "#plot decision tree tuned for hyperparameters\n",
    "from sklearn import tree\n",
    "plt.style.use('classic')\n",
    "plt.figure(figsize=(50,10))\n",
    "tree.plot_tree(tuned_tree, class_names=tuned_tree.classes_, feature_names=X_train.columns, fontsize=10)\n",
    "plt.show()"
   ]
  },
  {
   "cell_type": "markdown",
   "metadata": {},
   "source": [
    "## Naive Bayes Classifier"
   ]
  },
  {
   "cell_type": "code",
   "execution_count": 65,
   "metadata": {},
   "outputs": [
    {
     "name": "stdout",
     "output_type": "stream",
     "text": [
      "0.5187485956726893\n"
     ]
    }
   ],
   "source": [
    "# training a Naive Bayes classifier \n",
    "from sklearn.naive_bayes import GaussianNB \n",
    "gnb = GaussianNB().fit(X_train, y_train) \n",
    "gnb_predictions = gnb.predict(X_test) \n",
    "  \n",
    "# accuracy on X_test \n",
    "accuracy = gnb.score(X_test, y_test) \n",
    "print(accuracy)\n",
    "  \n",
    "# creating a confusion matrix \n",
    "cm = confusion_matrix(y_test, gnb_predictions) "
   ]
  },
  {
   "cell_type": "code",
   "execution_count": 66,
   "metadata": {},
   "outputs": [
    {
     "name": "stdout",
     "output_type": "stream",
     "text": [
      "[[10531   236  2402]\n",
      " [  974  9287  1890]\n",
      " [15955 14954 19430]]\n",
      "              precision    recall  f1-score   support\n",
      "\n",
      "        High       0.38      0.80      0.52     13169\n",
      "         Low       0.38      0.76      0.51     12151\n",
      "      Medium       0.82      0.39      0.52     50339\n",
      "\n",
      "    accuracy                           0.52     75659\n",
      "   macro avg       0.53      0.65      0.52     75659\n",
      "weighted avg       0.67      0.52      0.52     75659\n",
      "\n"
     ]
    }
   ],
   "source": [
    "#print confusion matrix and classification report\n",
    "print(cm)\n",
    "print(classification_report(y_test, gnb_predictions))"
   ]
  },
  {
   "cell_type": "markdown",
   "metadata": {},
   "source": [
    "### Random Forest Classifier"
   ]
  },
  {
   "cell_type": "code",
   "execution_count": 67,
   "metadata": {},
   "outputs": [
    {
     "name": "stdout",
     "output_type": "stream",
     "text": [
      "0.7984773787652494\n",
      "CPU times: user 1min 48s, sys: 3.75 s, total: 1min 51s\n",
      "Wall time: 1min 54s\n"
     ]
    }
   ],
   "source": [
    "%%time\n",
    "from sklearn.ensemble import RandomForestClassifier\n",
    "rf_class = RandomForestClassifier().fit(X_train, y_train) \n",
    "rf_class_pred = rf_class.predict(X_test) \n",
    "  \n",
    "# accuracy on X_test \n",
    "accuracy = rf_class.score(X_test, y_test) \n",
    "print(accuracy)\n",
    "  \n",
    "# creating a confusion matrix \n",
    "cm = confusion_matrix(y_test, rf_class_pred) "
   ]
  },
  {
   "cell_type": "code",
   "execution_count": 68,
   "metadata": {},
   "outputs": [
    {
     "name": "stdout",
     "output_type": "stream",
     "text": [
      "[[ 8091    12  5066]\n",
      " [   21  7190  4940]\n",
      " [ 2686  2522 45131]]\n",
      "              precision    recall  f1-score   support\n",
      "\n",
      "        High       0.75      0.61      0.68     13169\n",
      "         Low       0.74      0.59      0.66     12151\n",
      "      Medium       0.82      0.90      0.86     50339\n",
      "\n",
      "    accuracy                           0.80     75659\n",
      "   macro avg       0.77      0.70      0.73     75659\n",
      "weighted avg       0.79      0.80      0.79     75659\n",
      "\n"
     ]
    }
   ],
   "source": [
    "#print confusion matrix and classification report\n",
    "print(cm)\n",
    "print(classification_report(y_test, rf_class_pred))"
   ]
  },
  {
   "cell_type": "code",
   "execution_count": 69,
   "metadata": {},
   "outputs": [
    {
     "data": {
      "text/plain": [
       "[71,\n",
       " 71,\n",
       " 68,\n",
       " 66,\n",
       " 71,\n",
       " 71,\n",
       " 67,\n",
       " 73,\n",
       " 70,\n",
       " 71,\n",
       " 69,\n",
       " 71,\n",
       " 75,\n",
       " 71,\n",
       " 72,\n",
       " 70,\n",
       " 70,\n",
       " 68,\n",
       " 70,\n",
       " 68,\n",
       " 71,\n",
       " 70,\n",
       " 70,\n",
       " 72,\n",
       " 71,\n",
       " 70,\n",
       " 73,\n",
       " 70,\n",
       " 70,\n",
       " 73,\n",
       " 70,\n",
       " 65,\n",
       " 70,\n",
       " 72,\n",
       " 70,\n",
       " 71,\n",
       " 69,\n",
       " 69,\n",
       " 69,\n",
       " 72,\n",
       " 71,\n",
       " 71,\n",
       " 74,\n",
       " 71,\n",
       " 65,\n",
       " 69,\n",
       " 69,\n",
       " 68,\n",
       " 71,\n",
       " 70,\n",
       " 70,\n",
       " 71,\n",
       " 68,\n",
       " 71,\n",
       " 71,\n",
       " 69,\n",
       " 73,\n",
       " 68,\n",
       " 72,\n",
       " 67,\n",
       " 72,\n",
       " 68,\n",
       " 68,\n",
       " 70,\n",
       " 70,\n",
       " 71,\n",
       " 69,\n",
       " 65,\n",
       " 69,\n",
       " 71,\n",
       " 71,\n",
       " 69,\n",
       " 70,\n",
       " 67,\n",
       " 67,\n",
       " 70,\n",
       " 70,\n",
       " 69,\n",
       " 71,\n",
       " 70,\n",
       " 67,\n",
       " 70,\n",
       " 68,\n",
       " 71,\n",
       " 73,\n",
       " 67,\n",
       " 72,\n",
       " 67,\n",
       " 67,\n",
       " 70,\n",
       " 69,\n",
       " 68,\n",
       " 67,\n",
       " 71,\n",
       " 67,\n",
       " 70,\n",
       " 73,\n",
       " 73,\n",
       " 68,\n",
       " 67]"
      ]
     },
     "execution_count": 69,
     "metadata": {},
     "output_type": "execute_result"
    }
   ],
   "source": [
    "#see tree depths of random forrest classifier\n",
    "[estimator.tree_.max_depth for estimator in rf_class.estimators_]"
   ]
  },
  {
   "cell_type": "markdown",
   "metadata": {},
   "source": [
    "# Tuning Random Forest Classifier"
   ]
  },
  {
   "cell_type": "code",
   "execution_count": 72,
   "metadata": {},
   "outputs": [
    {
     "name": "stdout",
     "output_type": "stream",
     "text": [
      "Tuned Decision Tree Parameters: {'criterion': 'gini', 'max_depth': 8, 'max_features': 8, 'min_samples_leaf': 7}\n",
      "Best score is 0.7883355884500862\n"
     ]
    }
   ],
   "source": [
    "# Setup the parameters and distributions to sample from: param_dist\n",
    "param_dist = {\"max_depth\": randint(1, 9),\n",
    "              \"max_features\": randint(1, 9),\n",
    "              \"min_samples_leaf\": randint(1, 9),\n",
    "              \"criterion\": [\"gini\", \"entropy\"]}\n",
    "\n",
    "# Instantiate a Decision Tree classifier: tree\n",
    "rf_tree = RandomForestClassifier()\n",
    "\n",
    "# Instantiate the RandomizedSearchCV object: tree_cv\n",
    "rf_tree_cv = RandomizedSearchCV(rf_tree, param_dist, cv=5)\n",
    "\n",
    "# Fit it to the data\n",
    "rf_tree_cv.fit(X_train, y_train)\n",
    "\n",
    "# Print the tuned parameters and score\n",
    "print(\"Tuned Decision Tree Parameters: {}\".format(rf_tree_cv.best_params_))\n",
    "print(\"Best score is {}\".format(rf_tree_cv.best_score_))"
   ]
  },
  {
   "cell_type": "code",
   "execution_count": 73,
   "metadata": {},
   "outputs": [
    {
     "name": "stdout",
     "output_type": "stream",
     "text": [
      "[[ 7467     9  5693]\n",
      " [   17  6235  5899]\n",
      " [ 2467  1825 46047]]\n",
      "              precision    recall  f1-score   support\n",
      "\n",
      "        High       0.75      0.57      0.65     13169\n",
      "         Low       0.77      0.51      0.62     12151\n",
      "      Medium       0.80      0.91      0.85     50339\n",
      "\n",
      "    accuracy                           0.79     75659\n",
      "   macro avg       0.77      0.66      0.71     75659\n",
      "weighted avg       0.79      0.79      0.78     75659\n",
      "\n"
     ]
    }
   ],
   "source": [
    "# Predict the labels of the test set: y_pred\n",
    "y_pred = rf_tree_cv.predict(X_test)\n",
    "\n",
    "# Generate the confusion matrix and classification report\n",
    "print(confusion_matrix(y_test, y_pred))\n",
    "print(classification_report(y_test, y_pred))"
   ]
  },
  {
   "cell_type": "markdown",
   "metadata": {},
   "source": [
    "### K-Nearest Neighbors"
   ]
  },
  {
   "cell_type": "code",
   "execution_count": 30,
   "metadata": {},
   "outputs": [
    {
     "data": {
      "text/plain": [
       "KNeighborsClassifier(algorithm='auto', leaf_size=30, metric='minkowski',\n",
       "                     metric_params=None, n_jobs=None, n_neighbors=5, p=2,\n",
       "                     weights='uniform')"
      ]
     },
     "execution_count": 30,
     "metadata": {},
     "output_type": "execute_result"
    }
   ],
   "source": [
    "# Create a k-NN classifier\n",
    "knn = KNeighborsClassifier()\n",
    "\n",
    "# Fit the classifier to the data\n",
    "knn.fit(X_train, y_train)"
   ]
  },
  {
   "cell_type": "code",
   "execution_count": 31,
   "metadata": {},
   "outputs": [],
   "source": [
    "# Predict the labels for the training data X\n",
    "y_pred = knn.predict(X_test)"
   ]
  },
  {
   "cell_type": "code",
   "execution_count": 32,
   "metadata": {},
   "outputs": [
    {
     "name": "stdout",
     "output_type": "stream",
     "text": [
      "Accuracy: 0.7737612180969878\n"
     ]
    }
   ],
   "source": [
    "#Import scikit-learn metrics module for accuracy calculation\n",
    "from sklearn import metrics\n",
    "\n",
    "# Model Accuracy, how often is the classifier correct?\n",
    "print(\"Accuracy:\",metrics.accuracy_score(y_test, y_pred))"
   ]
  },
  {
   "cell_type": "code",
   "execution_count": 33,
   "metadata": {},
   "outputs": [
    {
     "name": "stdout",
     "output_type": "stream",
     "text": [
      "[[ 7820    38  5311]\n",
      " [   58  7175  4918]\n",
      " [ 3575  3217 43547]]\n",
      "              precision    recall  f1-score   support\n",
      "\n",
      "        High       0.68      0.59      0.64     13169\n",
      "         Low       0.69      0.59      0.64     12151\n",
      "      Medium       0.81      0.87      0.84     50339\n",
      "\n",
      "    accuracy                           0.77     75659\n",
      "   macro avg       0.73      0.68      0.70     75659\n",
      "weighted avg       0.77      0.77      0.77     75659\n",
      "\n"
     ]
    }
   ],
   "source": [
    "# Generate the confusion matrix and classification report\n",
    "print(confusion_matrix(y_test, y_pred))\n",
    "print(classification_report(y_test, y_pred))"
   ]
  },
  {
   "cell_type": "markdown",
   "metadata": {},
   "source": [
    "#### Hyperparameter Tuning"
   ]
  },
  {
   "cell_type": "code",
   "execution_count": 67,
   "metadata": {},
   "outputs": [
    {
     "data": {
      "image/png": "[encoded data removed]",
      "text/plain": [
       "<Figure size 576x396 with 1 Axes>"
      ]
     },
     "metadata": {},
     "output_type": "display_data"
    }
   ],
   "source": [
    "# Setup arrays to store train and test accuracies\n",
    "neighbors = np.arange(1, 6)\n",
    "train_accuracy = np.empty(len(neighbors))\n",
    "test_accuracy = np.empty(len(neighbors))\n",
    "\n",
    "# Loop over different values of k\n",
    "for i, k in enumerate(neighbors):\n",
    "    # Setup a k-NN Classifier with k neighbors: knn\n",
    "    knn = KNeighborsClassifier(n_neighbors=k)\n",
    "\n",
    "    # Fit the classifier to the training data\n",
    "    knn.fit(X_train, y_train)\n",
    "    \n",
    "    #Compute accuracy on the training set\n",
    "    train_accuracy[i] = knn.score(X_train, y_train)\n",
    "\n",
    "    #Compute accuracy on the testing set\n",
    "    test_accuracy[i] = knn.score(X_test, y_test)\n",
    "\n",
    "# Generate plot\n",
    "plt.title('k-NN: Varying Number of Neighbors')\n",
    "plt.plot(neighbors, test_accuracy, label = 'Testing Accuracy')\n",
    "plt.plot(neighbors, train_accuracy, label = 'Training Accuracy')\n",
    "plt.legend()\n",
    "plt.xlabel('Number of Neighbors')\n",
    "plt.ylabel('Accuracy')\n",
    "plt.show()"
   ]
  },
  {
   "cell_type": "markdown",
   "metadata": {},
   "source": [
    "Try running this for neighbors = range(6-10). This was done because running time for full range took too long."
   ]
  },
  {
   "cell_type": "code",
   "execution_count": null,
   "metadata": {},
   "outputs": [],
   "source": [
    "%%time\n",
    "# Setup arrays to store train and test accuracies\n",
    "neighbors = np.arange(6, 10)\n",
    "train_accuracy = np.empty(len(neighbors))\n",
    "test_accuracy = np.empty(len(neighbors))\n",
    "\n",
    "# Loop over different values of k\n",
    "for i, k in enumerate(neighbors):\n",
    "    # Setup a k-NN Classifier with k neighbors: knn\n",
    "    knn = KNeighborsClassifier(n_neighbors=k)\n",
    "\n",
    "    # Fit the classifier to the training data\n",
    "    knn.fit(X_train, y_train)\n",
    "    \n",
    "    #Compute accuracy on the training set\n",
    "    train_accuracy[i] = knn.score(X_train, y_train)\n",
    "\n",
    "    #Compute accuracy on the testing set\n",
    "    test_accuracy[i] = knn.score(X_test, y_test)\n",
    "\n",
    "# Generate plot\n",
    "plt.title('k-NN: Varying Number of Neighbors')\n",
    "plt.plot(neighbors, test_accuracy, label = 'Testing Accuracy')\n",
    "plt.plot(neighbors, train_accuracy, label = 'Training Accuracy')\n",
    "plt.legend()\n",
    "plt.xlabel('Number of Neighbors')\n",
    "plt.ylabel('Accuracy')\n",
    "plt.show()"
   ]
  },
  {
   "cell_type": "code",
   "execution_count": 198,
   "metadata": {},
   "outputs": [
    {
     "data": {
      "text/plain": [
       "array([0.772])"
      ]
     },
     "execution_count": 198,
     "metadata": {},
     "output_type": "execute_result"
    }
   ],
   "source": [
    "test_accuracy"
   ]
  },
  {
   "cell_type": "markdown",
   "metadata": {},
   "source": [
    "### Regenerate model for K=..."
   ]
  },
  {
   "cell_type": "code",
   "execution_count": null,
   "metadata": {},
   "outputs": [],
   "source": [
    "#Import knearest neighbors Classifier model\n",
    "from sklearn.neighbors import KNeighborsClassifier\n",
    "\n",
    "#Create KNN Classifier\n",
    "knn = KNeighborsClassifier(n_neighbors=6)\n",
    "\n",
    "#Train the model using the training sets\n",
    "knn.fit(X_train, y_train)\n",
    "\n",
    "#Predict the response for test dataset\n",
    "y_pred = knn.predict(X_test)"
   ]
  },
  {
   "cell_type": "code",
   "execution_count": null,
   "metadata": {},
   "outputs": [],
   "source": [
    "#Import scikit-learn metrics module for accuracy calculation\n",
    "from sklearn import metrics\n",
    "# Model Accuracy, how often is the classifier correct?\n",
    "print(\"Accuracy:\",metrics.accuracy_score(y_test, y_pred))"
   ]
  },
  {
   "cell_type": "code",
   "execution_count": 12,
   "metadata": {},
   "outputs": [
    {
     "ename": "NameError",
     "evalue": "name 'y_test' is not defined",
     "output_type": "error",
     "traceback": [
      "\u001b[0;31m---------------------------------------------------------------------------\u001b[0m",
      "\u001b[0;31mNameError\u001b[0m                                 Traceback (most recent call last)",
      "\u001b[0;32m<ipython-input-12-d691fc50ce53>\u001b[0m in \u001b[0;36m<module>\u001b[0;34m\u001b[0m\n\u001b[1;32m      1\u001b[0m \u001b[0;31m# Generate the confusion matrix and classification report\u001b[0m\u001b[0;34m\u001b[0m\u001b[0;34m\u001b[0m\u001b[0;34m\u001b[0m\u001b[0m\n\u001b[0;32m----> 2\u001b[0;31m \u001b[0mprint\u001b[0m\u001b[0;34m(\u001b[0m\u001b[0mconfusion_matrix\u001b[0m\u001b[0;34m(\u001b[0m\u001b[0my_test\u001b[0m\u001b[0;34m,\u001b[0m \u001b[0my_pred\u001b[0m\u001b[0;34m)\u001b[0m\u001b[0;34m)\u001b[0m\u001b[0;34m\u001b[0m\u001b[0;34m\u001b[0m\u001b[0m\n\u001b[0m\u001b[1;32m      3\u001b[0m \u001b[0mprint\u001b[0m\u001b[0;34m(\u001b[0m\u001b[0mclassification_report\u001b[0m\u001b[0;34m(\u001b[0m\u001b[0my_test\u001b[0m\u001b[0;34m,\u001b[0m \u001b[0my_pred\u001b[0m\u001b[0;34m)\u001b[0m\u001b[0;34m)\u001b[0m\u001b[0;34m\u001b[0m\u001b[0;34m\u001b[0m\u001b[0m\n",
      "\u001b[0;31mNameError\u001b[0m: name 'y_test' is not defined"
     ]
    }
   ],
   "source": [
    "# Generate the confusion matrix and classification report\n",
    "print(confusion_matrix(y_test, y_pred))\n",
    "print(classification_report(y_test, y_pred))"
   ]
  },
  {
   "cell_type": "code",
   "execution_count": null,
   "metadata": {},
   "outputs": [],
   "source": [
    "'''\n",
    "# training a linear SVM classifier \n",
    "from sklearn.svm import SVC \n",
    "svm_model_linear = SVC(kernel = 'linear', C = 1).fit(X_train, y_train) \n",
    "svm_predictions = svm_model_linear.predict(X_test) \n",
    "  \n",
    "# model accuracy for X_test   \n",
    "accuracy = svm_model_linear.score(X_test, y_test) \n",
    "  \n",
    "# creating a confusion matrix \n",
    "cm = confusion_matrix(y_test, svm_predictions) \n",
    "'''"
   ]
  },
  {
   "cell_type": "code",
   "execution_count": null,
   "metadata": {},
   "outputs": [],
   "source": [
    "'''\n",
    "# print accuracy, confusion matrix, and  classification report\n",
    "print('accuracy:', accuracy)\n",
    "print(cm)\n",
    "\n",
    "print(classification_report(y_test, svm_predictions))\n",
    "'''"
   ]
  },
  {
   "cell_type": "markdown",
   "metadata": {},
   "source": [
    "### Tensorflow Deep Learning Regression Model"
   ]
  },
  {
   "cell_type": "code",
   "execution_count": 76,
   "metadata": {},
   "outputs": [
    {
     "ename": "ModuleNotFoundError",
     "evalue": "No module named 'tensorflow'",
     "output_type": "error",
     "traceback": [
      "\u001b[0;31m---------------------------------------------------------------------------\u001b[0m",
      "\u001b[0;31mModuleNotFoundError\u001b[0m                       Traceback (most recent call last)",
      "\u001b[0;32m<ipython-input-76-06b5ce281361>\u001b[0m in \u001b[0;36m<module>\u001b[0;34m\u001b[0m\n\u001b[1;32m      2\u001b[0m \u001b[0;32mimport\u001b[0m \u001b[0mpandas\u001b[0m \u001b[0;32mas\u001b[0m \u001b[0mpd\u001b[0m\u001b[0;34m\u001b[0m\u001b[0;34m\u001b[0m\u001b[0m\n\u001b[1;32m      3\u001b[0m \u001b[0;32mimport\u001b[0m \u001b[0mmatplotlib\u001b[0m\u001b[0;34m.\u001b[0m\u001b[0mpyplot\u001b[0m \u001b[0;32mas\u001b[0m \u001b[0mplt\u001b[0m\u001b[0;34m\u001b[0m\u001b[0;34m\u001b[0m\u001b[0m\n\u001b[0;32m----> 4\u001b[0;31m \u001b[0;32mimport\u001b[0m \u001b[0mtensorflow\u001b[0m \u001b[0;32mas\u001b[0m \u001b[0mtf\u001b[0m\u001b[0;34m\u001b[0m\u001b[0;34m\u001b[0m\u001b[0m\n\u001b[0m\u001b[1;32m      5\u001b[0m \u001b[0;32mfrom\u001b[0m \u001b[0mtensorflow\u001b[0m \u001b[0;32mimport\u001b[0m \u001b[0mkeras\u001b[0m\u001b[0;34m\u001b[0m\u001b[0;34m\u001b[0m\u001b[0m\n\u001b[1;32m      6\u001b[0m \u001b[0;32mfrom\u001b[0m \u001b[0mtensorflow\u001b[0m\u001b[0;34m.\u001b[0m\u001b[0mkeras\u001b[0m \u001b[0;32mimport\u001b[0m \u001b[0mlayers\u001b[0m\u001b[0;34m\u001b[0m\u001b[0;34m\u001b[0m\u001b[0m\n",
      "\u001b[0;31mModuleNotFoundError\u001b[0m: No module named 'tensorflow'"
     ]
    }
   ],
   "source": [
    "import numpy as np\n",
    "import pandas as pd\n",
    "import matplotlib.pyplot as plt\n",
    "import tensorflow as tf\n",
    "from tensorflow import keras\n",
    "from tensorflow.keras import layers\n",
    "from tensorflow.keras.layers.experimental import preprocessing\n",
    "import warnings\n",
    "print(tf.__version__)\n",
    "\n",
    "# Make numpy printouts easier to read.\n",
    "np.set_printoptions(precision=3, suppress=True)"
   ]
  },
  {
   "cell_type": "code",
   "execution_count": null,
   "metadata": {},
   "outputs": [],
   "source": [
    "#Reset TF session parameters\n",
    "#tf.keras.backend.clear_session()"
   ]
  },
  {
   "cell_type": "code",
   "execution_count": null,
   "metadata": {},
   "outputs": [],
   "source": [
    "#define variables for tensorflow regressor\n",
    "X = df_regressor_dummies\n",
    "y = df_regressor_dummies['Next Year % Chronically Absent']\n",
    "\n",
    "#train test split\n",
    "#X_train, X_test, y_train, y_test = train_test_split(X, y, test_size=0.20, random_state=42)\n",
    "\n",
    "#Time series Train test split for the 5 school years years\n",
    "tss = TimeSeriesSplit(n_splits = 5)\n",
    "for train_index, test_index in tss.split(X):\n",
    "    X_train, X_test = X.iloc[train_index, :], X.iloc[test_index,:]\n",
    "    y_train, y_test = y.iloc[train_index], y.iloc[test_index]"
   ]
  },
  {
   "cell_type": "code",
   "execution_count": null,
   "metadata": {},
   "outputs": [],
   "source": [
    "#Split features from labels\n",
    "train_features = X_train.copy()\n",
    "test_features = X_test.copy()\n",
    "\n",
    "train_labels = train_features.pop('Next Year % Chronically Absent')\n",
    "test_labels = test_features.pop('Next Year % Chronically Absent')"
   ]
  },
  {
   "cell_type": "code",
   "execution_count": null,
   "metadata": {},
   "outputs": [],
   "source": [
    "#see how different the ranges of each feature are.\n",
    "X_train.describe().transpose()[['mean', 'std']]"
   ]
  },
  {
   "cell_type": "code",
   "execution_count": null,
   "metadata": {},
   "outputs": [],
   "source": [
    "#build normalization layer\n",
    "normalizer = preprocessing.Normalization()"
   ]
  },
  {
   "cell_type": "code",
   "execution_count": null,
   "metadata": {},
   "outputs": [],
   "source": [
    "#adapt it to the data\n",
    "normalizer.adapt(np.array(train_features))"
   ]
  },
  {
   "cell_type": "code",
   "execution_count": null,
   "metadata": {},
   "outputs": [],
   "source": [
    "#this calculates the mean and variance, and stores them in the layer.\n",
    "print(normalizer.mean.numpy())"
   ]
  },
  {
   "cell_type": "markdown",
   "metadata": {},
   "source": [
    "#### Tensorflow Linear regression\n",
    "Before building a DNN model, start with a linear regression."
   ]
  },
  {
   "cell_type": "code",
   "execution_count": null,
   "metadata": {},
   "outputs": [],
   "source": [
    "#Build the sequential model using the Normalization layer that was adapted to the whole dataset.\n",
    "linear_model = tf.keras.Sequential([\n",
    "    normalizer,\n",
    "    layers.Dense(units=1)\n",
    "])"
   ]
  },
  {
   "cell_type": "code",
   "execution_count": null,
   "metadata": {},
   "outputs": [],
   "source": [
    "#call this model on a batch of inputs, producing produces units=1 outputs for each example\n",
    "linear_model.predict(train_features[:10])"
   ]
  },
  {
   "cell_type": "code",
   "execution_count": null,
   "metadata": {},
   "outputs": [],
   "source": [
    "#configure the training procedure \n",
    "#define what will be optimized (mean_absolute_error) and how (using the optimizers.Adam)\n",
    "linear_model.compile(\n",
    "    optimizer=tf.optimizers.Adam(learning_rate=0.1),\n",
    "    loss='mean_absolute_error')"
   ]
  },
  {
   "cell_type": "code",
   "execution_count": null,
   "metadata": {},
   "outputs": [],
   "source": [
    "#execute the training"
   ]
  },
  {
   "cell_type": "code",
   "execution_count": null,
   "metadata": {},
   "outputs": [],
   "source": [
    "%%time\n",
    "history = linear_model.fit(\n",
    "    train_features, train_labels, \n",
    "    epochs=20,\n",
    "    # suppress logging\n",
    "    verbose=0,\n",
    "    # Calculate validation results on 20% of the training data\n",
    "    validation_split = 0.2)"
   ]
  },
  {
   "cell_type": "code",
   "execution_count": null,
   "metadata": {},
   "outputs": [],
   "source": [
    "#Visualize the model's training progress using the stats stored in the history object\n",
    "hist = pd.DataFrame(history.history)\n",
    "hist['epoch'] = history.epoch\n",
    "hist.tail()"
   ]
  },
  {
   "cell_type": "code",
   "execution_count": null,
   "metadata": {},
   "outputs": [],
   "source": [
    "def plot_loss(history, y_lim=10):\n",
    "  plt.plot(history.history['loss'], label='loss')\n",
    "  plt.plot(history.history['val_loss'], label='val_loss')\n",
    "  plt.ylim([0, y_lim])\n",
    "  plt.xlabel('Epoch')\n",
    "  plt.ylabel('Error [Next Year % Chronically Absent]')\n",
    "  plt.legend()\n",
    "  plt.grid(True)"
   ]
  },
  {
   "cell_type": "code",
   "execution_count": null,
   "metadata": {},
   "outputs": [],
   "source": [
    "#visualize training and validation error\n",
    "plot_loss(history, 35)"
   ]
  },
  {
   "cell_type": "code",
   "execution_count": null,
   "metadata": {},
   "outputs": [],
   "source": [
    "#Collect the results on the test set, for later:\n",
    "test_results = {}\n",
    "\n",
    "test_results['linear_model'] = linear_model.evaluate(\n",
    "    test_features, test_labels, verbose=0)"
   ]
  },
  {
   "cell_type": "markdown",
   "metadata": {},
   "source": [
    "#### Tensorflow DNN Regression"
   ]
  },
  {
   "cell_type": "code",
   "execution_count": null,
   "metadata": {},
   "outputs": [],
   "source": [
    "#define function to build and compile the model\n",
    "def build_and_compile_model(norm):\n",
    "  model = keras.Sequential([\n",
    "      norm,\n",
    "      layers.Dense(69, activation='relu'),\n",
    "      layers.Dense(69, activation='relu'),\n",
    "      layers.Dense(1)\n",
    "  ])\n",
    "\n",
    "  model.compile(loss='mean_absolute_error',\n",
    "                optimizer=tf.keras.optimizers.Adam(0.001))\n",
    "  return model"
   ]
  },
  {
   "cell_type": "code",
   "execution_count": null,
   "metadata": {},
   "outputs": [],
   "source": [
    "#Build the sequential model\n",
    "dnn_model = build_and_compile_model(normalizer)\n",
    "dnn_model.summary()"
   ]
  },
  {
   "cell_type": "code",
   "execution_count": null,
   "metadata": {},
   "outputs": [],
   "source": [
    "%%time\n",
    "history = dnn_model.fit(\n",
    "    train_features, train_labels,\n",
    "    validation_split=0.2,\n",
    "    verbose=0, epochs=20)"
   ]
  },
  {
   "cell_type": "code",
   "execution_count": null,
   "metadata": {},
   "outputs": [],
   "source": [
    "plot_loss(history)"
   ]
  },
  {
   "cell_type": "code",
   "execution_count": null,
   "metadata": {},
   "outputs": [],
   "source": [
    "#Collect the results on the test set:\n",
    "test_results['dnn_model'] = dnn_model.evaluate(test_features, test_labels, verbose=0)"
   ]
  },
  {
   "cell_type": "markdown",
   "metadata": {},
   "source": [
    "### Tensorflow Model Performance"
   ]
  },
  {
   "cell_type": "code",
   "execution_count": null,
   "metadata": {},
   "outputs": [],
   "source": [
    "#check the test-set performance\n",
    "pd.DataFrame(test_results, index=['Mean absolute error [Next Year % Chronically Absent]']).T"
   ]
  },
  {
   "cell_type": "markdown",
   "metadata": {},
   "source": [
    "Results match the validation error seen during training on dnn_model, not linear_model."
   ]
  },
  {
   "cell_type": "markdown",
   "metadata": {},
   "source": [
    "#### Make predictions"
   ]
  },
  {
   "cell_type": "code",
   "execution_count": null,
   "metadata": {},
   "outputs": [],
   "source": [
    "#look at the errors made by the model when making predictions on the test set\n",
    "test_predictions = dnn_model.predict(test_features).flatten()\n",
    "\n",
    "a = plt.axes(aspect='equal')\n",
    "plt.scatter(test_labels, test_predictions)\n",
    "plt.xlabel('True Values [Next Year % Chronically Absent]')\n",
    "plt.ylabel('Predictions [Next Year % Chronically Absent]')\n",
    "lims = [0, 50]\n",
    "plt.xlim(lims)\n",
    "plt.ylim(lims)\n",
    "_ = plt.plot(lims, lims)"
   ]
  },
  {
   "cell_type": "code",
   "execution_count": null,
   "metadata": {},
   "outputs": [],
   "source": [
    "#look at the error distribution:\n",
    "error = test_predictions - test_labels\n",
    "plt.hist(error, bins=25)\n",
    "plt.xlabel('Prediction Error [Next Year % Chronically Absent]')\n",
    "_ = plt.ylabel('Count')"
   ]
  },
  {
   "cell_type": "code",
   "execution_count": null,
   "metadata": {
    "scrolled": true
   },
   "outputs": [],
   "source": [
    "#r2_score(, y_tr_pred), \n",
    "r2_score(test_labels, test_predictions)"
   ]
  },
  {
   "cell_type": "markdown",
   "metadata": {},
   "source": [
    "## Choose Model + Feature Importance "
   ]
  },
  {
   "cell_type": "markdown",
   "metadata": {},
   "source": [
    "Best performing model is in terms of overall accuracy random forest classifier (79% Accuracy. In many cases school districs would be most focused on the 'High' rates of Chronic Absenteeism (**Meaning... insert number..)**. For the 'High' class Random forest classifer \n",
    "\n",
    "     \n",
    "It wil depend on what a district needs to manage more, False Positives or False Negatives, in deciding which model is best in reality. \n",
    "\n",
    "- too many False positives = may be ok for school districts with less constraintes (ie. larger budgets, more time for this kind of initiative), as they may want to ensure they got all the schools & groups that are at risk of high chronic absenteeism.\n",
    "- too many False negatives = may be ok for school disctricts with more constraints (ie. smaller budgets, less time for this kind of initiative), as they may want to ensure a school/group they focus on will really need it.\n",
    "\n",
    "\n",
    "So the Random Forrest Model would be a great choice if you want to ensure you limited False Positives (and were ok with under-identifying schools/groups that are at risk of high chronic absenteeism), because the precision is higher while the recall is lower: \n",
    "\n",
    "'High' Next_Year_Chronic Absenteesim:\n",
    "- precision: 0.74\n",
    "- recall: 0.58\n",
    "- f1-score: 0.65 \n",
    "- support: 13169\n",
    "    \n",
    "However if you wanted to ensure you limited False Negatives (and were ok with over-identifying schools/groups that are at risk of high chronic absenteeism), then the Naive Bayes Classifer (49% Accuracy) would be the way to go, because although the precision is low the recall is much higher than other models:\n",
    "\n",
    "'High' Next_Year_Chronic Absenteesim:\n",
    "- precision: 0.36 \n",
    "- recall: 0.79\n",
    "- f1-score: 0.50\n",
    "- support: 13169\n",
    "  \n",
    "But if you wanted the most balanced model the Descision Tree (76% accuracy) may be the best choice as its precision vs. recall for the 'High' class have the least difference.\n",
    "        \n",
    "'High' Next_Year_Chronic Absenteesim:\n",
    "- precision: 0.61  \n",
    "- recall: 0.68 \n",
    "- f1-score: 0.64\n",
    "- support: 13169\n",
    "\n",
    "This model is also incredibly straightforward to explain (albeit not that helpful in new information) to schools. As it predicts any school/group that has:\n",
    "\n",
    "- attendance above 95.5% as 'Low' Next_Year_Chronic Absenteesim \n",
    "- attendance between 88.45% and 95.5% as 'Medium' Next_Year_Chronic Absenteesim\n",
    "- attendance below 88.45% as 'High' Next_Year_Chronic Absenteesim"
   ]
  },
  {
   "cell_type": "code",
   "execution_count": 80,
   "metadata": {},
   "outputs": [
    {
     "data": {
      "text/plain": [
       "'Year_2015-16'"
      ]
     },
     "execution_count": 80,
     "metadata": {},
     "output_type": "execute_result"
    }
   ],
   "source": [
    "X.columns[19]"
   ]
  },
  {
   "cell_type": "code",
   "execution_count": 78,
   "metadata": {},
   "outputs": [
    {
     "name": "stdout",
     "output_type": "stream",
     "text": [
      "Feature ranking:\n",
      "1. feature 1 (0.325494)\n",
      "2. feature 0 (0.304466)\n",
      "3. feature 68 (0.010955)\n",
      "4. feature 19 (0.010258)\n",
      "5. feature 18 (0.010231)\n",
      "6. feature 17 (0.010077)\n",
      "7. feature 20 (0.009600)\n",
      "8. feature 6 (0.008036)\n",
      "9. feature 15 (0.007881)\n",
      "10. feature 26 (0.007849)\n",
      "11. feature 28 (0.007798)\n",
      "12. feature 37 (0.007762)\n",
      "13. feature 61 (0.007394)\n",
      "14. feature 7 (0.007305)\n",
      "15. feature 8 (0.007246)\n",
      "16. feature 27 (0.007191)\n",
      "17. feature 30 (0.007183)\n",
      "18. feature 3 (0.007077)\n",
      "19. feature 34 (0.006896)\n",
      "20. feature 9 (0.006869)\n",
      "21. feature 23 (0.006455)\n",
      "22. feature 10 (0.006380)\n",
      "23. feature 22 (0.006335)\n",
      "24. feature 2 (0.006295)\n",
      "25. feature 25 (0.005905)\n",
      "26. feature 24 (0.005889)\n",
      "27. feature 31 (0.005864)\n",
      "28. feature 62 (0.005605)\n",
      "29. feature 13 (0.005553)\n",
      "30. feature 33 (0.005482)\n",
      "31. feature 11 (0.005461)\n",
      "32. feature 12 (0.005424)\n",
      "33. feature 45 (0.005334)\n",
      "34. feature 66 (0.005026)\n",
      "35. feature 46 (0.004975)\n",
      "36. feature 4 (0.004973)\n",
      "37. feature 14 (0.004864)\n",
      "38. feature 38 (0.004781)\n",
      "39. feature 29 (0.004750)\n",
      "40. feature 56 (0.004627)\n",
      "41. feature 50 (0.004620)\n",
      "42. feature 55 (0.004601)\n",
      "43. feature 63 (0.004570)\n",
      "44. feature 60 (0.004550)\n",
      "45. feature 64 (0.004546)\n",
      "46. feature 5 (0.004506)\n",
      "47. feature 59 (0.004505)\n",
      "48. feature 65 (0.004455)\n",
      "49. feature 41 (0.004443)\n",
      "50. feature 35 (0.004417)\n",
      "51. feature 44 (0.004398)\n",
      "52. feature 52 (0.004318)\n",
      "53. feature 43 (0.004242)\n",
      "54. feature 49 (0.004139)\n",
      "55. feature 39 (0.004114)\n",
      "56. feature 57 (0.004034)\n",
      "57. feature 48 (0.004030)\n",
      "58. feature 54 (0.003991)\n",
      "59. feature 47 (0.003790)\n",
      "60. feature 16 (0.003698)\n",
      "61. feature 36 (0.003612)\n",
      "62. feature 42 (0.003351)\n",
      "63. feature 40 (0.003199)\n",
      "64. feature 21 (0.003179)\n",
      "65. feature 53 (0.003153)\n",
      "66. feature 67 (0.002802)\n",
      "67. feature 58 (0.002647)\n",
      "68. feature 51 (0.002350)\n",
      "69. feature 32 (0.002191)\n"
     ]
    },
    {
     "data": {
      "image/png": "[encoded data removed]",
      "text/plain": [
       "<Figure size 640x480 with 1 Axes>"
      ]
     },
     "metadata": {},
     "output_type": "display_data"
    }
   ],
   "source": [
    "#plot feature importance for random forest classifier model...\n",
    "importances = rf_class.feature_importances_\n",
    "std = np.std([rf_class.feature_importances_ for tree in rf_class.estimators_],\n",
    "             axis=0)\n",
    "indices = np.argsort(importances)[::-1]\n",
    "\n",
    "# Print the feature ranking\n",
    "print(\"Feature ranking:\")\n",
    "\n",
    "for f in range(X.shape[1]):\n",
    "    print(\"%d. feature %d (%f)\" % (f + 1, indices[f], importances[indices[f]]))\n",
    "\n",
    "# Plot the impurity-based feature importances of the forest\n",
    "plt.figure()\n",
    "plt.title(\"Feature importances\")\n",
    "plt.bar(range(X.shape[1]), importances[indices],\n",
    "        color=\"r\", yerr=std[indices], align=\"center\")\n",
    "plt.xticks(range(X.shape[1]), indices)\n",
    "plt.xlim([-1, X.shape[1]])\n",
    "plt.show()"
   ]
  },
  {
   "cell_type": "code",
   "execution_count": null,
   "metadata": {},
   "outputs": [],
   "source": [
    "#save model for later use\n",
    "#dnn_model.save('dnn_model')"
   ]
  },
  {
   "cell_type": "code",
   "execution_count": null,
   "metadata": {},
   "outputs": [],
   "source": [
    "#reload the model, test if identical output\n",
    "'''\n",
    "reloaded = tf.keras.models.load_model('dnn_model')\n",
    "\n",
    "test_results['reloaded'] = reloaded.evaluate(\n",
    "    test_features, test_labels, verbose=0)\n",
    "'''    "
   ]
  },
  {
   "cell_type": "code",
   "execution_count": null,
   "metadata": {},
   "outputs": [],
   "source": [
    "#pd.DataFrame(test_results, index=['Mean absolute error [Next Year % Chronically Absent]']).T"
   ]
  },
  {
   "cell_type": "markdown",
   "metadata": {},
   "source": [
    "### Saved Best Model"
   ]
  },
  {
   "cell_type": "code",
   "execution_count": null,
   "metadata": {},
   "outputs": [],
   "source": [
    "# save the model to disk\n",
    "filename = 'finalized_model.sav'\n",
    "#pickle.dump(model, open(filename, 'wb'))\n",
    " \n"
   ]
  },
  {
   "cell_type": "code",
   "execution_count": null,
   "metadata": {},
   "outputs": [],
   "source": [
    "# load the model from disk\n",
    "loaded_model = pickle.load(open(filename, 'rb'))\n",
    "result = loaded_model.score(X_test, Y_test)\n",
    "print(result)"
   ]
  },
  {
   "cell_type": "markdown",
   "metadata": {},
   "source": [
    "## Notes /Summary"
   ]
  },
  {
   "cell_type": "markdown",
   "metadata": {},
   "source": [
    "### To do...\n",
    "- xLook at modeling springboard docs\n",
    "- xdo other models (**deep learning**, naive bayes, svm)\n",
    "- x?tune descion tree (why lower performing?)\n",
    "- xvisualize decision tree (look at my springboard decision tree project).. \n",
    "- xlook at springboard projects for classfication\n",
    "- xdo a few regression models (random forest)\n",
    "- x**tune hyperparamters**\n",
    "- Feature importance\n",
    "- predict next years on 2018-2019 data (look at and compare with today's data)"
   ]
  },
  {
   "cell_type": "code",
   "execution_count": null,
   "metadata": {},
   "outputs": [],
   "source": [
    "#remember because of time series split is a form of cross validation..."
   ]
  },
  {
   "cell_type": "code",
   "execution_count": null,
   "metadata": {},
   "outputs": [],
   "source": [
    "#a classification model, you should implement both an entropy model and a Gini impurity model. \n"
   ]
  },
  {
   "cell_type": "code",
   "execution_count": 68,
   "metadata": {},
   "outputs": [],
   "source": [
    "#need to do feature importance before dropping `% Chronically Absent!!`"
   ]
  },
  {
   "cell_type": "markdown",
   "metadata": {},
   "source": [
    "- Fit your models with a training dataset\n",
    "- Review model outcomes — Iterate over additional models as needed\n",
    "- Identify the final model that you think is the best model for this project\n",
    "    - Not always the most accurate (think about what I want my model to best predict ('high' chronic absentee schools)\n",
    "        - too many False positives = ok for schools with larger budgets, want to ensure they got all the schools\n",
    "        - too many False negatives = ok for schools with smaller budgets? want to ensure a school they focus on will really need it"
   ]
  },
  {
   "cell_type": "markdown",
   "metadata": {},
   "source": [
    "- need to generate more features, https://github.com/springboard-curriculum/featuretools/blob/master/Feature%20Engineering.ipynb\n",
    "- import other dataframes from nycopen data"
   ]
  },
  {
   "cell_type": "markdown",
   "metadata": {},
   "source": [
    "We will try to turn chronic absenteeism from a multi class categorical variable to a binary variable.. As we are concerned mostly with whether Chronic Absenteeism is 'High' or not."
   ]
  },
  {
   "cell_type": "code",
   "execution_count": null,
   "metadata": {},
   "outputs": [],
   "source": [
    "#Turn chronic absenteeism from multi class to binary\n",
    "1 = High\n",
    "0 = Low\n",
    "    \n",
    "# defining function to check price \n",
    "def fun(num): \n",
    "  \n",
    "    if num< (mean - std): \n",
    "        return \"Low\"\n",
    "  \n",
    "    elif num>= (mean - std) and num <= (mean + std): \n",
    "        return \"Medium\"\n",
    "    \n",
    "    elif num > (mean+ std):\n",
    "        return \"High\"\n",
    "  \n",
    "    else: \n",
    "        return np.nan"
   ]
  }
 ],
 "metadata": {
  "kernelspec": {
   "display_name": "Python 3",
   "language": "python",
   "name": "python3"
  },
  "language_info": {
   "codemirror_mode": {
    "name": "ipython",
    "version": 3
   },
   "file_extension": ".py",
   "mimetype": "text/x-python",
   "name": "python",
   "nbconvert_exporter": "python",
   "pygments_lexer": "ipython3",
   "version": "3.8.5"
  }
 },
 "nbformat": 4,
 "nbformat_minor": 4
}
