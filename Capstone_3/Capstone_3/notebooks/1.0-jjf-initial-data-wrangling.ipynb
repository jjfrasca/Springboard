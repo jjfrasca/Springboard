{
 "cells": [
  {
   "cell_type": "markdown",
   "metadata": {},
   "source": [
    "# Data Wrangling"
   ]
  },
  {
   "cell_type": "markdown",
   "metadata": {},
   "source": [
    "## Imports "
   ]
  },
  {
   "cell_type": "code",
   "execution_count": 74,
   "metadata": {},
   "outputs": [],
   "source": [
    "import pandas as pd\n",
    "import matplotlib.pyplot as plt\n",
    "import seaborn as sns\n",
    "import numpy as np\n",
    "import os\n",
    "from pandas_profiling import ProfileReport"
   ]
  },
  {
   "cell_type": "markdown",
   "metadata": {},
   "source": [
    "## Load Data "
   ]
  },
  {
   "cell_type": "code",
   "execution_count": 27,
   "metadata": {},
   "outputs": [
    {
     "data": {
      "text/plain": [
       "'/Users/josephfrasca/Coding_Stuff/Springboard/Capstone_3/Capstone_3/notebooks'"
      ]
     },
     "execution_count": 27,
     "metadata": {},
     "output_type": "execute_result"
    }
   ],
   "source": [
    "#change directory to get external_data directory\n",
    "os.getcwd()"
   ]
  },
  {
   "cell_type": "code",
   "execution_count": 29,
   "metadata": {},
   "outputs": [],
   "source": [
    "path= '/Users/josephfrasca/Coding_Stuff/Springboard/Capstone_3/Capstone_3/data/external'\n",
    "os.chdir(path)"
   ]
  },
  {
   "cell_type": "code",
   "execution_count": 31,
   "metadata": {},
   "outputs": [],
   "source": [
    "#load NYC attendance data\n",
    "attendance = pd.read_csv('2013-2019_Attendance_Results_-_School.csv')"
   ]
  },
  {
   "cell_type": "code",
   "execution_count": 57,
   "metadata": {
    "scrolled": true
   },
   "outputs": [
    {
     "data": {
      "text/html": [
       "<div>\n",
       "<style scoped>\n",
       "    .dataframe tbody tr th:only-of-type {\n",
       "        vertical-align: middle;\n",
       "    }\n",
       "\n",
       "    .dataframe tbody tr th {\n",
       "        vertical-align: top;\n",
       "    }\n",
       "\n",
       "    .dataframe thead th {\n",
       "        text-align: right;\n",
       "    }\n",
       "</style>\n",
       "<table border=\"1\" class=\"dataframe\">\n",
       "  <thead>\n",
       "    <tr style=\"text-align: right;\">\n",
       "      <th></th>\n",
       "      <th>DBN</th>\n",
       "      <th>School Name</th>\n",
       "      <th>Grade</th>\n",
       "      <th>Year</th>\n",
       "      <th>Demographic Category</th>\n",
       "      <th>Demographic Variable</th>\n",
       "      <th># Total Days</th>\n",
       "      <th># Days Absent</th>\n",
       "      <th># Days Present</th>\n",
       "      <th>% Attendance</th>\n",
       "      <th># Contributing 20+ Total Days</th>\n",
       "      <th># Chronically Absent</th>\n",
       "      <th>% Chronically Absent</th>\n",
       "    </tr>\n",
       "  </thead>\n",
       "  <tbody>\n",
       "    <tr>\n",
       "      <th>0</th>\n",
       "      <td>01M015</td>\n",
       "      <td>P.S. 015 Roberto Clemente</td>\n",
       "      <td>All Grades</td>\n",
       "      <td>2013-14</td>\n",
       "      <td>All Students</td>\n",
       "      <td>All Students</td>\n",
       "      <td>34803</td>\n",
       "      <td>2783</td>\n",
       "      <td>32020</td>\n",
       "      <td>92.0</td>\n",
       "      <td>216</td>\n",
       "      <td>58</td>\n",
       "      <td>26.9</td>\n",
       "    </tr>\n",
       "    <tr>\n",
       "      <th>1</th>\n",
       "      <td>01M015</td>\n",
       "      <td>P.S. 015 Roberto Clemente</td>\n",
       "      <td>All Grades</td>\n",
       "      <td>2014-15</td>\n",
       "      <td>All Students</td>\n",
       "      <td>All Students</td>\n",
       "      <td>33455</td>\n",
       "      <td>2374</td>\n",
       "      <td>31081</td>\n",
       "      <td>92.9</td>\n",
       "      <td>197</td>\n",
       "      <td>46</td>\n",
       "      <td>23.4</td>\n",
       "    </tr>\n",
       "    <tr>\n",
       "      <th>2</th>\n",
       "      <td>01M015</td>\n",
       "      <td>P.S. 015 Roberto Clemente</td>\n",
       "      <td>All Grades</td>\n",
       "      <td>2015-16</td>\n",
       "      <td>All Students</td>\n",
       "      <td>All Students</td>\n",
       "      <td>29840</td>\n",
       "      <td>2071</td>\n",
       "      <td>27769</td>\n",
       "      <td>93.1</td>\n",
       "      <td>186</td>\n",
       "      <td>51</td>\n",
       "      <td>27.4</td>\n",
       "    </tr>\n",
       "    <tr>\n",
       "      <th>3</th>\n",
       "      <td>01M015</td>\n",
       "      <td>P.S. 015 Roberto Clemente</td>\n",
       "      <td>All Grades</td>\n",
       "      <td>2016-17</td>\n",
       "      <td>All Students</td>\n",
       "      <td>All Students</td>\n",
       "      <td>30601</td>\n",
       "      <td>1994</td>\n",
       "      <td>28607</td>\n",
       "      <td>93.5</td>\n",
       "      <td>193</td>\n",
       "      <td>48</td>\n",
       "      <td>24.9</td>\n",
       "    </tr>\n",
       "    <tr>\n",
       "      <th>4</th>\n",
       "      <td>01M015</td>\n",
       "      <td>P.S. 015 Roberto Clemente</td>\n",
       "      <td>All Grades</td>\n",
       "      <td>2017-18</td>\n",
       "      <td>All Students</td>\n",
       "      <td>All Students</td>\n",
       "      <td>33264</td>\n",
       "      <td>2078</td>\n",
       "      <td>31186</td>\n",
       "      <td>93.8</td>\n",
       "      <td>195</td>\n",
       "      <td>37</td>\n",
       "      <td>19.0</td>\n",
       "    </tr>\n",
       "    <tr>\n",
       "      <th>...</th>\n",
       "      <td>...</td>\n",
       "      <td>...</td>\n",
       "      <td>...</td>\n",
       "      <td>...</td>\n",
       "      <td>...</td>\n",
       "      <td>...</td>\n",
       "      <td>...</td>\n",
       "      <td>...</td>\n",
       "      <td>...</td>\n",
       "      <td>...</td>\n",
       "      <td>...</td>\n",
       "      <td>...</td>\n",
       "      <td>...</td>\n",
       "    </tr>\n",
       "    <tr>\n",
       "      <th>824141</th>\n",
       "      <td>75X811</td>\n",
       "      <td>P.S. X811</td>\n",
       "      <td>12</td>\n",
       "      <td>2016-17</td>\n",
       "      <td>ELL Status</td>\n",
       "      <td>Not ELL</td>\n",
       "      <td>32558</td>\n",
       "      <td>5543</td>\n",
       "      <td>27015</td>\n",
       "      <td>83.0</td>\n",
       "      <td>192</td>\n",
       "      <td>98</td>\n",
       "      <td>51.0</td>\n",
       "    </tr>\n",
       "    <tr>\n",
       "      <th>824142</th>\n",
       "      <td>75X811</td>\n",
       "      <td>P.S. X811</td>\n",
       "      <td>12</td>\n",
       "      <td>2017-18</td>\n",
       "      <td>ELL Status</td>\n",
       "      <td>ELL</td>\n",
       "      <td>22818</td>\n",
       "      <td>4079</td>\n",
       "      <td>18739</td>\n",
       "      <td>82.1</td>\n",
       "      <td>133</td>\n",
       "      <td>81</td>\n",
       "      <td>60.9</td>\n",
       "    </tr>\n",
       "    <tr>\n",
       "      <th>824143</th>\n",
       "      <td>75X811</td>\n",
       "      <td>P.S. X811</td>\n",
       "      <td>12</td>\n",
       "      <td>2017-18</td>\n",
       "      <td>ELL Status</td>\n",
       "      <td>Not ELL</td>\n",
       "      <td>34542</td>\n",
       "      <td>5791</td>\n",
       "      <td>28751</td>\n",
       "      <td>83.2</td>\n",
       "      <td>201</td>\n",
       "      <td>112</td>\n",
       "      <td>55.7</td>\n",
       "    </tr>\n",
       "    <tr>\n",
       "      <th>824144</th>\n",
       "      <td>75X811</td>\n",
       "      <td>P.S. X811</td>\n",
       "      <td>12</td>\n",
       "      <td>2018-19</td>\n",
       "      <td>ELL Status</td>\n",
       "      <td>ELL</td>\n",
       "      <td>24910</td>\n",
       "      <td>4837</td>\n",
       "      <td>20073</td>\n",
       "      <td>80.6</td>\n",
       "      <td>147</td>\n",
       "      <td>98</td>\n",
       "      <td>66.7</td>\n",
       "    </tr>\n",
       "    <tr>\n",
       "      <th>824145</th>\n",
       "      <td>75X811</td>\n",
       "      <td>P.S. X811</td>\n",
       "      <td>12</td>\n",
       "      <td>2018-19</td>\n",
       "      <td>ELL Status</td>\n",
       "      <td>Not ELL</td>\n",
       "      <td>37488</td>\n",
       "      <td>5849</td>\n",
       "      <td>31639</td>\n",
       "      <td>84.4</td>\n",
       "      <td>215</td>\n",
       "      <td>102</td>\n",
       "      <td>47.4</td>\n",
       "    </tr>\n",
       "  </tbody>\n",
       "</table>\n",
       "<p>824146 rows × 13 columns</p>\n",
       "</div>"
      ],
      "text/plain": [
       "           DBN                School Name       Grade     Year  \\\n",
       "0       01M015  P.S. 015 Roberto Clemente  All Grades  2013-14   \n",
       "1       01M015  P.S. 015 Roberto Clemente  All Grades  2014-15   \n",
       "2       01M015  P.S. 015 Roberto Clemente  All Grades  2015-16   \n",
       "3       01M015  P.S. 015 Roberto Clemente  All Grades  2016-17   \n",
       "4       01M015  P.S. 015 Roberto Clemente  All Grades  2017-18   \n",
       "...        ...                        ...         ...      ...   \n",
       "824141  75X811                  P.S. X811          12  2016-17   \n",
       "824142  75X811                  P.S. X811          12  2017-18   \n",
       "824143  75X811                  P.S. X811          12  2017-18   \n",
       "824144  75X811                  P.S. X811          12  2018-19   \n",
       "824145  75X811                  P.S. X811          12  2018-19   \n",
       "\n",
       "       Demographic Category Demographic Variable  # Total Days # Days Absent  \\\n",
       "0              All Students         All Students         34803          2783   \n",
       "1              All Students         All Students         33455          2374   \n",
       "2              All Students         All Students         29840          2071   \n",
       "3              All Students         All Students         30601          1994   \n",
       "4              All Students         All Students         33264          2078   \n",
       "...                     ...                  ...           ...           ...   \n",
       "824141           ELL Status              Not ELL         32558          5543   \n",
       "824142           ELL Status                  ELL         22818          4079   \n",
       "824143           ELL Status              Not ELL         34542          5791   \n",
       "824144           ELL Status                  ELL         24910          4837   \n",
       "824145           ELL Status              Not ELL         37488          5849   \n",
       "\n",
       "       # Days Present % Attendance # Contributing 20+ Total Days  \\\n",
       "0               32020         92.0                           216   \n",
       "1               31081         92.9                           197   \n",
       "2               27769         93.1                           186   \n",
       "3               28607         93.5                           193   \n",
       "4               31186         93.8                           195   \n",
       "...               ...          ...                           ...   \n",
       "824141          27015         83.0                           192   \n",
       "824142          18739         82.1                           133   \n",
       "824143          28751         83.2                           201   \n",
       "824144          20073         80.6                           147   \n",
       "824145          31639         84.4                           215   \n",
       "\n",
       "       # Chronically Absent % Chronically Absent  \n",
       "0                        58                 26.9  \n",
       "1                        46                 23.4  \n",
       "2                        51                 27.4  \n",
       "3                        48                 24.9  \n",
       "4                        37                 19.0  \n",
       "...                     ...                  ...  \n",
       "824141                   98                 51.0  \n",
       "824142                   81                 60.9  \n",
       "824143                  112                 55.7  \n",
       "824144                   98                 66.7  \n",
       "824145                  102                 47.4  \n",
       "\n",
       "[824146 rows x 13 columns]"
      ]
     },
     "execution_count": 57,
     "metadata": {},
     "output_type": "execute_result"
    }
   ],
   "source": [
    "attendance"
   ]
  },
  {
   "cell_type": "markdown",
   "metadata": {},
   "source": [
    "## Data Definition "
   ]
  },
  {
   "cell_type": "code",
   "execution_count": 38,
   "metadata": {},
   "outputs": [
    {
     "name": "stdout",
     "output_type": "stream",
     "text": [
      "<class 'pandas.core.frame.DataFrame'>\n",
      "RangeIndex: 824146 entries, 0 to 824145\n",
      "Data columns (total 13 columns):\n",
      " #   Column                         Non-Null Count   Dtype \n",
      "---  ------                         --------------   ----- \n",
      " 0   DBN                            824146 non-null  object\n",
      " 1   School Name                    824146 non-null  object\n",
      " 2   Grade                          824146 non-null  object\n",
      " 3   Year                           824146 non-null  object\n",
      " 4   Demographic Category           824146 non-null  object\n",
      " 5   Demographic Variable           824146 non-null  object\n",
      " 6   # Total Days                   824146 non-null  int64 \n",
      " 7   # Days Absent                  824146 non-null  object\n",
      " 8   # Days Present                 824146 non-null  object\n",
      " 9   % Attendance                   824146 non-null  object\n",
      " 10  # Contributing 20+ Total Days  824146 non-null  object\n",
      " 11  # Chronically Absent           824146 non-null  object\n",
      " 12  % Chronically Absent           824146 non-null  object\n",
      "dtypes: int64(1), object(12)\n",
      "memory usage: 81.7+ MB\n"
     ]
    }
   ],
   "source": [
    "#Call the info method to see a summary of the data\n",
    "attendance.info()"
   ]
  },
  {
   "cell_type": "code",
   "execution_count": 40,
   "metadata": {},
   "outputs": [
    {
     "data": {
      "text/plain": [
       "DBN                              0.0\n",
       "School Name                      0.0\n",
       "Grade                            0.0\n",
       "Year                             0.0\n",
       "Demographic Category             0.0\n",
       "Demographic Variable             0.0\n",
       "# Total Days                     0.0\n",
       "# Days Absent                    0.0\n",
       "# Days Present                   0.0\n",
       "% Attendance                     0.0\n",
       "# Contributing 20+ Total Days    0.0\n",
       "# Chronically Absent             0.0\n",
       "% Chronically Absent             0.0\n",
       "dtype: float64"
      ]
     },
     "execution_count": 40,
     "metadata": {},
     "output_type": "execute_result"
    }
   ],
   "source": [
    "#check NaNs\n",
    "attendance.isna().sum()/len(attendance)*100"
   ]
  },
  {
   "cell_type": "code",
   "execution_count": 42,
   "metadata": {},
   "outputs": [
    {
     "data": {
      "text/plain": [
       "DBN                               1631\n",
       "School Name                       1627\n",
       "Grade                               15\n",
       "Year                                 6\n",
       "Demographic Category                 6\n",
       "Demographic Variable                14\n",
       "# Total Days                     86622\n",
       "# Days Absent                    16803\n",
       "# Days Present                   81135\n",
       "% Attendance                       666\n",
       "# Contributing 20+ Total Days     2441\n",
       "# Chronically Absent               935\n",
       "% Chronically Absent               985\n",
       "dtype: int64"
      ]
     },
     "execution_count": 42,
     "metadata": {},
     "output_type": "execute_result"
    }
   ],
   "source": [
    "#check number of unique values \n",
    "attendance.nunique()"
   ]
  },
  {
   "cell_type": "code",
   "execution_count": 75,
   "metadata": {},
   "outputs": [],
   "source": [
    "#check unique values as percent of total\n",
    "def get_unique_values(dataframe):\n",
    "    '''get unique values for each column'''\n",
    "    for col in dataframe.columns:\n",
    "        print(col)\n",
    "        print(dataframe[col].value_counts()/len(dataframe[col])*100)\n",
    "        print('\\n')"
   ]
  },
  {
   "cell_type": "code",
   "execution_count": 76,
   "metadata": {},
   "outputs": [
    {
     "name": "stdout",
     "output_type": "stream",
     "text": [
      "DBN\n",
      "31R080    0.141722\n",
      "01M539    0.135534\n",
      "75Q993    0.131773\n",
      "75X188    0.129953\n",
      "75K369    0.128254\n",
      "            ...   \n",
      "19K907    0.003155\n",
      "16K898    0.002912\n",
      "09X593    0.002669\n",
      "19K260    0.002669\n",
      "23K332    0.002427\n",
      "Name: DBN, Length: 1631, dtype: float64\n",
      "\n",
      "\n",
      "School Name\n",
      "P.S. 212                                              0.164049\n",
      "P.S. 253                                              0.150944\n",
      "The Michael J. Petrides School                        0.141722\n",
      "New Explorations into Science, Technology and Math    0.135534\n",
      "P.S. Q993                                             0.131773\n",
      "                                                        ...   \n",
      "M.S. 907                                              0.003155\n",
      "The Brooklyn Green School                             0.002912\n",
      "P.S. 260 Breuckelen                                   0.002669\n",
      "South Bronx International Middle School               0.002669\n",
      "P.S. 332 Charles H. Houston                           0.002427\n",
      "Name: School Name, Length: 1627, dtype: float64\n",
      "\n",
      "\n",
      "Grade\n",
      "All Grades            15.736047\n",
      "0K                     7.949562\n",
      "1                      7.911341\n",
      "2                      7.833442\n",
      "3                      7.696331\n",
      "4                      7.544537\n",
      "5                      7.504738\n",
      "6                      5.493323\n",
      "8                      5.050683\n",
      "7                      5.048377\n",
      "9                      5.034424\n",
      "10                     4.569821\n",
      "11                     4.374225\n",
      "12                     4.267326\n",
      "PK in K-12 Schools     3.985823\n",
      "Name: Grade, dtype: float64\n",
      "\n",
      "\n",
      "Year\n",
      "2015-16    16.759652\n",
      "2016-17    16.755890\n",
      "2017-18    16.729196\n",
      "2018-19    16.687820\n",
      "2014-15    16.627272\n",
      "2013-14    16.440170\n",
      "Name: Year, dtype: float64\n",
      "\n",
      "\n",
      "Demographic Category\n",
      "Ethnicity       33.320552\n",
      "Gender          15.358322\n",
      "Poverty         15.281273\n",
      "SWD Status      14.186564\n",
      "ELL Status      14.061950\n",
      "All Students     7.791338\n",
      "Name: Demographic Category, dtype: float64\n",
      "\n",
      "\n",
      "Demographic Variable\n",
      "All Students    7.791338\n",
      "Poverty         7.765372\n",
      "Male            7.687109\n",
      "Hispanic        7.682013\n",
      "Female          7.671214\n",
      "Not Poverty     7.515901\n",
      "Black           7.371873\n",
      "Not ELL         7.301376\n",
      "SWD             7.222507\n",
      "Not SWD         6.964057\n",
      "ELL             6.760574\n",
      "White           6.520811\n",
      "Asian           6.393649\n",
      "Other           5.352207\n",
      "Name: Demographic Variable, dtype: float64\n",
      "\n",
      "\n",
      "# Total Days\n",
      "178       1.310690\n",
      "356       0.811871\n",
      "176       0.541288\n",
      "534       0.526120\n",
      "182       0.415339\n",
      "            ...   \n",
      "157824    0.000121\n",
      "266319    0.000121\n",
      "69357     0.000121\n",
      "67308     0.000121\n",
      "135406    0.000121\n",
      "Name: # Total Days, Length: 86622, dtype: float64\n",
      "\n",
      "\n",
      "# Days Absent\n",
      "158      0.083359\n",
      "126      0.082874\n",
      "115      0.080932\n",
      "121      0.080690\n",
      "141      0.080204\n",
      "           ...   \n",
      "15240    0.000121\n",
      "17597    0.000121\n",
      "12144    0.000121\n",
      "14687    0.000121\n",
      "15129    0.000121\n",
      "Name: # Days Absent, Length: 16802, dtype: float64\n",
      "\n",
      "\n",
      "# Days Present\n",
      "1020      0.011163\n",
      "997       0.010799\n",
      "1525      0.010556\n",
      "1032      0.010435\n",
      "1209      0.010314\n",
      "            ...   \n",
      "59129     0.000121\n",
      "26321     0.000121\n",
      "130270    0.000121\n",
      "43219     0.000121\n",
      "89882     0.000121\n",
      "Name: # Days Present, Length: 81134, dtype: float64\n",
      "\n",
      "\n",
      "% Attendance\n",
      "94.1    0.922409\n",
      "94.3    0.899841\n",
      "93.9    0.899234\n",
      "94.5    0.897171\n",
      "94.0    0.896564\n",
      "          ...   \n",
      "29.8    0.000121\n",
      "37.2    0.000121\n",
      "45.4    0.000121\n",
      "38.3    0.000121\n",
      "25.0    0.000121\n",
      "Name: % Attendance, Length: 665, dtype: float64\n",
      "\n",
      "\n",
      "# Contributing 20+ Total Days\n",
      "8       1.053575\n",
      "11      1.052847\n",
      "9       1.048358\n",
      "10      1.037923\n",
      "13      1.029551\n",
      "          ...   \n",
      "3314    0.000121\n",
      "1453    0.000121\n",
      "2063    0.000121\n",
      "2730    0.000121\n",
      "2014    0.000121\n",
      "Name: # Contributing 20+ Total Days, Length: 2440, dtype: float64\n",
      "\n",
      "\n",
      "# Chronically Absent\n",
      "3       3.814494\n",
      "2       3.741085\n",
      "4       3.571455\n",
      "1       3.387021\n",
      "5       3.362996\n",
      "          ...   \n",
      "1000    0.000121\n",
      "779     0.000121\n",
      "1222    0.000121\n",
      "1338    0.000121\n",
      "778     0.000121\n",
      "Name: # Chronically Absent, Length: 934, dtype: float64\n",
      "\n",
      "\n",
      "% Chronically Absent\n",
      "0.0     2.291706\n",
      "33.3    1.291761\n",
      "50.0    1.156834\n",
      "25.0    1.020936\n",
      "16.7    0.879334\n",
      "          ...   \n",
      "85.6    0.000121\n",
      "99.0    0.000121\n",
      "98.4    0.000121\n",
      "98.6    0.000121\n",
      "95.3    0.000121\n",
      "Name: % Chronically Absent, Length: 984, dtype: float64\n",
      "\n",
      "\n"
     ]
    }
   ],
   "source": [
    "get_unique_values(attendance)"
   ]
  },
  {
   "cell_type": "code",
   "execution_count": 60,
   "metadata": {},
   "outputs": [
    {
     "data": {
      "text/plain": [
       "Index(['DBN', 'School Name', 'Grade', 'Year', 'Demographic Category',\n",
       "       'Demographic Variable', '# Total Days', '# Days Absent',\n",
       "       '# Days Present', '% Attendance', '# Contributing 20+ Total Days',\n",
       "       '# Chronically Absent', '% Chronically Absent'],\n",
       "      dtype='object')"
      ]
     },
     "execution_count": 60,
     "metadata": {},
     "output_type": "execute_result"
    }
   ],
   "source": [
    "attendance.columns"
   ]
  },
  {
   "cell_type": "code",
   "execution_count": 70,
   "metadata": {},
   "outputs": [],
   "source": [
    "#replace 's' objects with NaNs in attedance data\n",
    "attendance['# Days Absent'].replace('s', np.nan, inplace=True)\n",
    "attendance['# Days Present'].replace('s', np.nan, inplace=True)\n",
    "attendance['% Attendance'].replace('s', np.nan, inplace=True)\n",
    "attendance['# Contributing 20+ Total Days'].replace('s', np.nan, inplace=True)\n",
    "attendance['# Chronically Absent'].replace('s', np.nan, inplace=True)\n",
    "attendance['% Chronically Absent'].replace('s', np.nan, inplace=True)"
   ]
  },
  {
   "cell_type": "code",
   "execution_count": 71,
   "metadata": {},
   "outputs": [],
   "source": [
    "#define functions to get NaNs as % \n",
    "def NaNs_as_percent(dataframe):\n",
    "    '''show % NaNs for each column'''\n",
    "    print(dataframe.isna().sum()/len(dataframe)*100)"
   ]
  },
  {
   "cell_type": "code",
   "execution_count": 92,
   "metadata": {},
   "outputs": [
    {
     "name": "stdout",
     "output_type": "stream",
     "text": [
      "DBN                               0.000000\n",
      "School Name                       0.000000\n",
      "Grade                             0.000000\n",
      "Year                              0.000000\n",
      "Demographic Category              0.000000\n",
      "Demographic Variable              0.000000\n",
      "# Total Days                      0.000000\n",
      "# Days Absent                    26.175823\n",
      "# Days Present                   26.175823\n",
      "% Attendance                     26.175823\n",
      "# Contributing 20+ Total Days    26.175823\n",
      "# Chronically Absent             26.782876\n",
      "% Chronically Absent             26.782876\n",
      "dtype: float64\n"
     ]
    }
   ],
   "source": [
    "NaNs_as_percent(attendance)"
   ]
  },
  {
   "cell_type": "code",
   "execution_count": 100,
   "metadata": {},
   "outputs": [],
   "source": [
    "attendance = attendance.astype({'# Days Absent': 'float', '# Days Present': 'float', '% Attendance': 'float', '# Contributing 20+ Total Days': 'float', '# Chronically Absent': 'float', '% Chronically Absent': 'float'})"
   ]
  },
  {
   "cell_type": "code",
   "execution_count": 103,
   "metadata": {},
   "outputs": [
    {
     "data": {
      "text/plain": [
       "DBN                               object\n",
       "School Name                       object\n",
       "Grade                             object\n",
       "Year                              object\n",
       "Demographic Category              object\n",
       "Demographic Variable              object\n",
       "# Total Days                       int64\n",
       "# Days Absent                    float64\n",
       "# Days Present                   float64\n",
       "% Attendance                     float64\n",
       "# Contributing 20+ Total Days    float64\n",
       "# Chronically Absent             float64\n",
       "% Chronically Absent             float64\n",
       "dtype: object"
      ]
     },
     "execution_count": 103,
     "metadata": {},
     "output_type": "execute_result"
    }
   ],
   "source": [
    "attendance.dtypes"
   ]
  },
  {
   "cell_type": "code",
   "execution_count": 107,
   "metadata": {},
   "outputs": [],
   "source": [
    "#define function to print pandas profiling report and save as html\n",
    "def show_save_pandas_profiling(dataframe, directory_path, filename):\n",
    "    '''create and save pandas profiling report as html'''\n",
    "    profile = ProfileReport(dataframe)\n",
    "    os.chdir(directory_path)\n",
    "    profile.to_file(filename)\n",
    "    print(profile)"
   ]
  },
  {
   "cell_type": "code",
   "execution_count": 108,
   "metadata": {},
   "outputs": [
    {
     "data": {
      "application/vnd.jupyter.widget-view+json": {
       "model_id": "c9c7b83550ea422883c57608c0d05696",
       "version_major": 2,
       "version_minor": 0
      },
      "text/plain": [
       "HBox(children=(FloatProgress(value=0.0, description='Summarize dataset', max=27.0, style=ProgressStyle(descrip…"
      ]
     },
     "metadata": {},
     "output_type": "display_data"
    },
    {
     "name": "stdout",
     "output_type": "stream",
     "text": [
      "\n"
     ]
    },
    {
     "data": {
      "application/vnd.jupyter.widget-view+json": {
       "model_id": "2a41fe3cefdc4e658e1eccdc143832d9",
       "version_major": 2,
       "version_minor": 0
      },
      "text/plain": [
       "HBox(children=(FloatProgress(value=0.0, description='Generate report structure', max=1.0, style=ProgressStyle(…"
      ]
     },
     "metadata": {},
     "output_type": "display_data"
    },
    {
     "name": "stderr",
     "output_type": "stream",
     "text": [
      "/opt/anaconda3/lib/python3.7/site-packages/pandas_profiling/visualisation/plot.py:154: MatplotlibDeprecationWarning: You are modifying the state of a globally registered colormap. In future versions, you will not be able to modify a registered colormap in-place. To remove this warning, you can make a copy of the colormap first. cmap = copy.copy(mpl.cm.get_cmap(\"RdBu\"))\n",
      "  cmap.set_bad(cmap_bad)\n"
     ]
    },
    {
     "name": "stdout",
     "output_type": "stream",
     "text": [
      "\n"
     ]
    },
    {
     "data": {
      "application/vnd.jupyter.widget-view+json": {
       "model_id": "c8b98f79398a4a17aa3b0449cb92e211",
       "version_major": 2,
       "version_minor": 0
      },
      "text/plain": [
       "HBox(children=(FloatProgress(value=0.0, description='Render HTML', max=1.0, style=ProgressStyle(description_wi…"
      ]
     },
     "metadata": {},
     "output_type": "display_data"
    },
    {
     "name": "stdout",
     "output_type": "stream",
     "text": [
      "\n"
     ]
    },
    {
     "data": {
      "application/vnd.jupyter.widget-view+json": {
       "model_id": "7bb0a127265c4e3f9cc731bfaff3edcf",
       "version_major": 2,
       "version_minor": 0
      },
      "text/plain": [
       "HBox(children=(FloatProgress(value=0.0, description='Export report to file', max=1.0, style=ProgressStyle(desc…"
      ]
     },
     "metadata": {},
     "output_type": "display_data"
    },
    {
     "name": "stdout",
     "output_type": "stream",
     "text": [
      "\n",
      "\n"
     ]
    }
   ],
   "source": [
    "#show_save_pandas_profiling(attendance, '/Users/josephfrasca/Coding_Stuff/Springboard/Capstone_3/Capstone_3/reports', 'notebook-1.0-data-definition.html')"
   ]
  },
  {
   "cell_type": "code",
   "execution_count": 109,
   "metadata": {},
   "outputs": [
    {
     "data": {
      "text/html": [
       "<div>\n",
       "<style scoped>\n",
       "    .dataframe tbody tr th:only-of-type {\n",
       "        vertical-align: middle;\n",
       "    }\n",
       "\n",
       "    .dataframe tbody tr th {\n",
       "        vertical-align: top;\n",
       "    }\n",
       "\n",
       "    .dataframe thead th {\n",
       "        text-align: right;\n",
       "    }\n",
       "</style>\n",
       "<table border=\"1\" class=\"dataframe\">\n",
       "  <thead>\n",
       "    <tr style=\"text-align: right;\">\n",
       "      <th></th>\n",
       "      <th># Total Days</th>\n",
       "      <th># Days Absent</th>\n",
       "      <th># Days Present</th>\n",
       "      <th>% Attendance</th>\n",
       "      <th># Contributing 20+ Total Days</th>\n",
       "      <th># Chronically Absent</th>\n",
       "      <th>% Chronically Absent</th>\n",
       "    </tr>\n",
       "  </thead>\n",
       "  <tbody>\n",
       "    <tr>\n",
       "      <th>count</th>\n",
       "      <td>824146.000000</td>\n",
       "      <td>608419.000000</td>\n",
       "      <td>608419.000000</td>\n",
       "      <td>608419.000000</td>\n",
       "      <td>608419.000000</td>\n",
       "      <td>603416.000000</td>\n",
       "      <td>603416.000000</td>\n",
       "    </tr>\n",
       "    <tr>\n",
       "      <th>mean</th>\n",
       "      <td>14454.985156</td>\n",
       "      <td>1491.243600</td>\n",
       "      <td>16858.884162</td>\n",
       "      <td>91.296638</td>\n",
       "      <td>110.238244</td>\n",
       "      <td>27.967416</td>\n",
       "      <td>27.720952</td>\n",
       "    </tr>\n",
       "    <tr>\n",
       "      <th>std</th>\n",
       "      <td>29094.942696</td>\n",
       "      <td>2864.866744</td>\n",
       "      <td>30011.053087</td>\n",
       "      <td>5.333851</td>\n",
       "      <td>195.738218</td>\n",
       "      <td>52.326790</td>\n",
       "      <td>18.062075</td>\n",
       "    </tr>\n",
       "    <tr>\n",
       "      <th>min</th>\n",
       "      <td>1.000000</td>\n",
       "      <td>0.000000</td>\n",
       "      <td>8.000000</td>\n",
       "      <td>0.700000</td>\n",
       "      <td>5.000000</td>\n",
       "      <td>0.000000</td>\n",
       "      <td>0.000000</td>\n",
       "    </tr>\n",
       "    <tr>\n",
       "      <th>25%</th>\n",
       "      <td>1849.000000</td>\n",
       "      <td>298.000000</td>\n",
       "      <td>3670.000000</td>\n",
       "      <td>89.400000</td>\n",
       "      <td>24.000000</td>\n",
       "      <td>5.000000</td>\n",
       "      <td>13.500000</td>\n",
       "    </tr>\n",
       "    <tr>\n",
       "      <th>50%</th>\n",
       "      <td>6224.000000</td>\n",
       "      <td>646.000000</td>\n",
       "      <td>8009.000000</td>\n",
       "      <td>92.600000</td>\n",
       "      <td>53.000000</td>\n",
       "      <td>12.000000</td>\n",
       "      <td>25.000000</td>\n",
       "    </tr>\n",
       "    <tr>\n",
       "      <th>75%</th>\n",
       "      <td>14270.000000</td>\n",
       "      <td>1423.000000</td>\n",
       "      <td>16020.000000</td>\n",
       "      <td>94.700000</td>\n",
       "      <td>105.000000</td>\n",
       "      <td>28.000000</td>\n",
       "      <td>39.400000</td>\n",
       "    </tr>\n",
       "    <tr>\n",
       "      <th>max</th>\n",
       "      <td>976375.000000</td>\n",
       "      <td>105055.000000</td>\n",
       "      <td>934266.000000</td>\n",
       "      <td>100.000000</td>\n",
       "      <td>5940.000000</td>\n",
       "      <td>1596.000000</td>\n",
       "      <td>100.000000</td>\n",
       "    </tr>\n",
       "  </tbody>\n",
       "</table>\n",
       "</div>"
      ],
      "text/plain": [
       "        # Total Days  # Days Absent  # Days Present   % Attendance  \\\n",
       "count  824146.000000  608419.000000   608419.000000  608419.000000   \n",
       "mean    14454.985156    1491.243600    16858.884162      91.296638   \n",
       "std     29094.942696    2864.866744    30011.053087       5.333851   \n",
       "min         1.000000       0.000000        8.000000       0.700000   \n",
       "25%      1849.000000     298.000000     3670.000000      89.400000   \n",
       "50%      6224.000000     646.000000     8009.000000      92.600000   \n",
       "75%     14270.000000    1423.000000    16020.000000      94.700000   \n",
       "max    976375.000000  105055.000000   934266.000000     100.000000   \n",
       "\n",
       "       # Contributing 20+ Total Days  # Chronically Absent  \\\n",
       "count                  608419.000000         603416.000000   \n",
       "mean                      110.238244             27.967416   \n",
       "std                       195.738218             52.326790   \n",
       "min                         5.000000              0.000000   \n",
       "25%                        24.000000              5.000000   \n",
       "50%                        53.000000             12.000000   \n",
       "75%                       105.000000             28.000000   \n",
       "max                      5940.000000           1596.000000   \n",
       "\n",
       "       % Chronically Absent  \n",
       "count         603416.000000  \n",
       "mean              27.720952  \n",
       "std               18.062075  \n",
       "min                0.000000  \n",
       "25%               13.500000  \n",
       "50%               25.000000  \n",
       "75%               39.400000  \n",
       "max              100.000000  "
      ]
     },
     "execution_count": 109,
     "metadata": {},
     "output_type": "execute_result"
    }
   ],
   "source": [
    "attendance.describe()"
   ]
  },
  {
   "cell_type": "markdown",
   "metadata": {},
   "source": [
    "The profiling report found the following warnings: **also get 2 images on desktop for % chronically absent**\n",
    "\n",
    "<img src=\"warnings-1.0.png\">\n",
    "\n",
    "Here are the descriptive statistics and a histogram of target variable '% Chronically Absent'\n",
    "\n",
    "<img src=\"notebook-1.0-DescriptiveStats-%ChronicallyAbsent.png\">\n",
    "\n",
    "<img src=\"notebook-1.0-Histogram_%ChronicallyAbsent.png\">"
   ]
  },
  {
   "cell_type": "markdown",
   "metadata": {},
   "source": [
    "## Data Cleaning "
   ]
  },
  {
   "cell_type": "code",
   "execution_count": 186,
   "metadata": {},
   "outputs": [
    {
     "name": "stdout",
     "output_type": "stream",
     "text": [
      "DBN                               0.000000\n",
      "School Name                       0.000000\n",
      "Grade                             0.000000\n",
      "Year                              0.000000\n",
      "Demographic Category              0.000000\n",
      "Demographic Variable              0.000000\n",
      "# Total Days                      0.000000\n",
      "# Days Absent                    26.175823\n",
      "# Days Present                   26.175823\n",
      "% Attendance                     26.175823\n",
      "# Contributing 20+ Total Days    26.175823\n",
      "# Chronically Absent             26.782876\n",
      "% Chronically Absent             26.782876\n",
      "dtype: float64\n"
     ]
    }
   ],
   "source": [
    "#deal with NaNs\n",
    "NaNs_as_percent(attendance)"
   ]
  },
  {
   "cell_type": "code",
   "execution_count": 187,
   "metadata": {},
   "outputs": [
    {
     "data": {
      "text/plain": [
       "Index(['DBN', 'School Name', 'Grade', 'Year', 'Demographic Category',\n",
       "       'Demographic Variable', '# Total Days', '# Days Absent',\n",
       "       '# Days Present', '% Attendance', '# Contributing 20+ Total Days',\n",
       "       '# Chronically Absent', '% Chronically Absent'],\n",
       "      dtype='object')"
      ]
     },
     "execution_count": 187,
     "metadata": {},
     "output_type": "execute_result"
    }
   ],
   "source": [
    "attendance.columns"
   ]
  },
  {
   "cell_type": "code",
   "execution_count": 240,
   "metadata": {},
   "outputs": [
    {
     "name": "stdout",
     "output_type": "stream",
     "text": [
      "DBN                                0.0\n",
      "School Name                        0.0\n",
      "Grade                              0.0\n",
      "Year                               0.0\n",
      "Demographic Category               0.0\n",
      "Demographic Variable               0.0\n",
      "# Total Days                       0.0\n",
      "# Days Absent                    100.0\n",
      "# Days Present                   100.0\n",
      "% Attendance                     100.0\n",
      "# Contributing 20+ Total Days    100.0\n",
      "# Chronically Absent             100.0\n",
      "% Chronically Absent             100.0\n",
      "dtype: float64\n"
     ]
    }
   ],
   "source": [
    "#all 6 columns have NaNs in the same rows, I wonder why?\n",
    "NaNs_as_percent(attendance.loc[attendance['# Days Absent'].isna()])"
   ]
  },
  {
   "cell_type": "code",
   "execution_count": 255,
   "metadata": {},
   "outputs": [
    {
     "data": {
      "text/plain": [
       "Index(['DBN', 'School Name', 'Grade', 'Year', 'Demographic Category',\n",
       "       'Demographic Variable', '# Total Days', '# Days Absent',\n",
       "       '# Days Present', '% Attendance', '# Contributing 20+ Total Days',\n",
       "       '# Chronically Absent', '% Chronically Absent'],\n",
       "      dtype='object')"
      ]
     },
     "execution_count": 255,
     "metadata": {},
     "output_type": "execute_result"
    }
   ],
   "source": [
    "attendance.columns"
   ]
  },
  {
   "cell_type": "code",
   "execution_count": 261,
   "metadata": {},
   "outputs": [],
   "source": [
    "no_nulls = attendance[attendance[['# Days Absent',\n",
    "       '# Days Present', '% Attendance', '# Contributing 20+ Total Days',\n",
    "       '# Chronically Absent', '% Chronically Absent']].notnull().all(1)]\n",
    "nulls = attendance.loc[attendance['# Days Absent'].isna()]"
   ]
  },
  {
   "cell_type": "code",
   "execution_count": 264,
   "metadata": {},
   "outputs": [
    {
     "data": {
      "text/html": [
       "<div>\n",
       "<style scoped>\n",
       "    .dataframe tbody tr th:only-of-type {\n",
       "        vertical-align: middle;\n",
       "    }\n",
       "\n",
       "    .dataframe tbody tr th {\n",
       "        vertical-align: top;\n",
       "    }\n",
       "\n",
       "    .dataframe thead th {\n",
       "        text-align: right;\n",
       "    }\n",
       "</style>\n",
       "<table border=\"1\" class=\"dataframe\">\n",
       "  <thead>\n",
       "    <tr style=\"text-align: right;\">\n",
       "      <th></th>\n",
       "      <th>DBN</th>\n",
       "      <th>School Name</th>\n",
       "      <th>Grade</th>\n",
       "      <th>Demographic Category</th>\n",
       "      <th>Demographic Variable</th>\n",
       "      <th># Total Days</th>\n",
       "      <th># Days Absent</th>\n",
       "      <th># Days Present</th>\n",
       "      <th>% Attendance</th>\n",
       "      <th># Contributing 20+ Total Days</th>\n",
       "      <th># Chronically Absent</th>\n",
       "      <th>% Chronically Absent</th>\n",
       "    </tr>\n",
       "    <tr>\n",
       "      <th>Year</th>\n",
       "      <th></th>\n",
       "      <th></th>\n",
       "      <th></th>\n",
       "      <th></th>\n",
       "      <th></th>\n",
       "      <th></th>\n",
       "      <th></th>\n",
       "      <th></th>\n",
       "      <th></th>\n",
       "      <th></th>\n",
       "      <th></th>\n",
       "      <th></th>\n",
       "    </tr>\n",
       "  </thead>\n",
       "  <tbody>\n",
       "    <tr>\n",
       "      <th>2013-14</th>\n",
       "      <td>39.838277</td>\n",
       "      <td>39.838277</td>\n",
       "      <td>39.838277</td>\n",
       "      <td>39.838277</td>\n",
       "      <td>39.838277</td>\n",
       "      <td>39.838277</td>\n",
       "      <td>0.0</td>\n",
       "      <td>0.0</td>\n",
       "      <td>0.0</td>\n",
       "      <td>0.0</td>\n",
       "      <td>0.0</td>\n",
       "      <td>0.0</td>\n",
       "    </tr>\n",
       "    <tr>\n",
       "      <th>2014-15</th>\n",
       "      <td>36.929683</td>\n",
       "      <td>36.929683</td>\n",
       "      <td>36.929683</td>\n",
       "      <td>36.929683</td>\n",
       "      <td>36.929683</td>\n",
       "      <td>36.929683</td>\n",
       "      <td>0.0</td>\n",
       "      <td>0.0</td>\n",
       "      <td>0.0</td>\n",
       "      <td>0.0</td>\n",
       "      <td>0.0</td>\n",
       "      <td>0.0</td>\n",
       "    </tr>\n",
       "    <tr>\n",
       "      <th>2015-16</th>\n",
       "      <td>36.187333</td>\n",
       "      <td>36.187333</td>\n",
       "      <td>36.187333</td>\n",
       "      <td>36.187333</td>\n",
       "      <td>36.187333</td>\n",
       "      <td>36.187333</td>\n",
       "      <td>0.0</td>\n",
       "      <td>0.0</td>\n",
       "      <td>0.0</td>\n",
       "      <td>0.0</td>\n",
       "      <td>0.0</td>\n",
       "      <td>0.0</td>\n",
       "    </tr>\n",
       "    <tr>\n",
       "      <th>2016-17</th>\n",
       "      <td>34.317603</td>\n",
       "      <td>34.317603</td>\n",
       "      <td>34.317603</td>\n",
       "      <td>34.317603</td>\n",
       "      <td>34.317603</td>\n",
       "      <td>34.317603</td>\n",
       "      <td>0.0</td>\n",
       "      <td>0.0</td>\n",
       "      <td>0.0</td>\n",
       "      <td>0.0</td>\n",
       "      <td>0.0</td>\n",
       "      <td>0.0</td>\n",
       "    </tr>\n",
       "    <tr>\n",
       "      <th>2017-18</th>\n",
       "      <td>34.036450</td>\n",
       "      <td>34.036450</td>\n",
       "      <td>34.036450</td>\n",
       "      <td>34.036450</td>\n",
       "      <td>34.036450</td>\n",
       "      <td>34.036450</td>\n",
       "      <td>0.0</td>\n",
       "      <td>0.0</td>\n",
       "      <td>0.0</td>\n",
       "      <td>0.0</td>\n",
       "      <td>0.0</td>\n",
       "      <td>0.0</td>\n",
       "    </tr>\n",
       "    <tr>\n",
       "      <th>2018-19</th>\n",
       "      <td>33.498953</td>\n",
       "      <td>33.498953</td>\n",
       "      <td>33.498953</td>\n",
       "      <td>33.498953</td>\n",
       "      <td>33.498953</td>\n",
       "      <td>33.498953</td>\n",
       "      <td>0.0</td>\n",
       "      <td>0.0</td>\n",
       "      <td>0.0</td>\n",
       "      <td>0.0</td>\n",
       "      <td>0.0</td>\n",
       "      <td>0.0</td>\n",
       "    </tr>\n",
       "  </tbody>\n",
       "</table>\n",
       "</div>"
      ],
      "text/plain": [
       "               DBN  School Name      Grade  Demographic Category  \\\n",
       "Year                                                               \n",
       "2013-14  39.838277    39.838277  39.838277             39.838277   \n",
       "2014-15  36.929683    36.929683  36.929683             36.929683   \n",
       "2015-16  36.187333    36.187333  36.187333             36.187333   \n",
       "2016-17  34.317603    34.317603  34.317603             34.317603   \n",
       "2017-18  34.036450    34.036450  34.036450             34.036450   \n",
       "2018-19  33.498953    33.498953  33.498953             33.498953   \n",
       "\n",
       "         Demographic Variable  # Total Days  # Days Absent  # Days Present  \\\n",
       "Year                                                                         \n",
       "2013-14             39.838277     39.838277            0.0             0.0   \n",
       "2014-15             36.929683     36.929683            0.0             0.0   \n",
       "2015-16             36.187333     36.187333            0.0             0.0   \n",
       "2016-17             34.317603     34.317603            0.0             0.0   \n",
       "2017-18             34.036450     34.036450            0.0             0.0   \n",
       "2018-19             33.498953     33.498953            0.0             0.0   \n",
       "\n",
       "         % Attendance  # Contributing 20+ Total Days  # Chronically Absent  \\\n",
       "Year                                                                         \n",
       "2013-14           0.0                            0.0                   0.0   \n",
       "2014-15           0.0                            0.0                   0.0   \n",
       "2015-16           0.0                            0.0                   0.0   \n",
       "2016-17           0.0                            0.0                   0.0   \n",
       "2017-18           0.0                            0.0                   0.0   \n",
       "2018-19           0.0                            0.0                   0.0   \n",
       "\n",
       "         % Chronically Absent  \n",
       "Year                           \n",
       "2013-14                   0.0  \n",
       "2014-15                   0.0  \n",
       "2015-16                   0.0  \n",
       "2016-17                   0.0  \n",
       "2017-18                   0.0  \n",
       "2018-19                   0.0  "
      ]
     },
     "execution_count": 264,
     "metadata": {},
     "output_type": "execute_result"
    }
   ],
   "source": [
    "#compare nulls to non nulls????\n",
    "(nulls.groupby('Year').count() / no_nulls.groupby('Year').count()*100).sort_values('DBN', ascending=False)"
   ]
  },
  {
   "cell_type": "markdown",
   "metadata": {},
   "source": [
    "**Notes on the NaNs**\n",
    "- 'Year' - most of the NaNs are evenly spread by year, with slightly more in 2013-2014, & 2014-2016 school years\n",
    "- 'Grade' - most of NaNs are in 'PK in K-12 Schools', middle schools, grades - 6, 9, 7, 11, 8 \n",
    "- 'Demographic Category' Most of the NaNs are from Ethnicity, ELL Status, Poverty, and SWD Status\n",
    "- 'Demographic Variable' Most of the Nans are from: Other, White, Asian, Black, ELL, Not ELL, Poverty, Not Poverty\n"
   ]
  },
  {
   "cell_type": "code",
   "execution_count": 259,
   "metadata": {},
   "outputs": [
    {
     "data": {
      "text/html": [
       "<div>\n",
       "<style scoped>\n",
       "    .dataframe tbody tr th:only-of-type {\n",
       "        vertical-align: middle;\n",
       "    }\n",
       "\n",
       "    .dataframe tbody tr th {\n",
       "        vertical-align: top;\n",
       "    }\n",
       "\n",
       "    .dataframe thead th {\n",
       "        text-align: right;\n",
       "    }\n",
       "</style>\n",
       "<table border=\"1\" class=\"dataframe\">\n",
       "  <thead>\n",
       "    <tr style=\"text-align: right;\">\n",
       "      <th></th>\n",
       "      <th>DBN</th>\n",
       "      <th>School Name</th>\n",
       "      <th>Grade</th>\n",
       "      <th>Year</th>\n",
       "      <th>Demographic Variable</th>\n",
       "      <th># Total Days</th>\n",
       "      <th># Days Absent</th>\n",
       "      <th># Days Present</th>\n",
       "      <th>% Attendance</th>\n",
       "      <th># Contributing 20+ Total Days</th>\n",
       "      <th># Chronically Absent</th>\n",
       "      <th>% Chronically Absent</th>\n",
       "    </tr>\n",
       "    <tr>\n",
       "      <th>Demographic Category</th>\n",
       "      <th></th>\n",
       "      <th></th>\n",
       "      <th></th>\n",
       "      <th></th>\n",
       "      <th></th>\n",
       "      <th></th>\n",
       "      <th></th>\n",
       "      <th></th>\n",
       "      <th></th>\n",
       "      <th></th>\n",
       "      <th></th>\n",
       "      <th></th>\n",
       "    </tr>\n",
       "  </thead>\n",
       "  <tbody>\n",
       "    <tr>\n",
       "      <th>Ethnicity</th>\n",
       "      <td>44.979061</td>\n",
       "      <td>44.979061</td>\n",
       "      <td>44.979061</td>\n",
       "      <td>44.979061</td>\n",
       "      <td>44.979061</td>\n",
       "      <td>44.979061</td>\n",
       "      <td>0.0</td>\n",
       "      <td>0.0</td>\n",
       "      <td>0.0</td>\n",
       "      <td>0.0</td>\n",
       "      <td>0.0</td>\n",
       "      <td>0.0</td>\n",
       "    </tr>\n",
       "    <tr>\n",
       "      <th>ELL Status</th>\n",
       "      <td>32.406313</td>\n",
       "      <td>32.406313</td>\n",
       "      <td>32.406313</td>\n",
       "      <td>32.406313</td>\n",
       "      <td>32.406313</td>\n",
       "      <td>32.406313</td>\n",
       "      <td>0.0</td>\n",
       "      <td>0.0</td>\n",
       "      <td>0.0</td>\n",
       "      <td>0.0</td>\n",
       "      <td>0.0</td>\n",
       "      <td>0.0</td>\n",
       "    </tr>\n",
       "    <tr>\n",
       "      <th>Poverty</th>\n",
       "      <td>23.883595</td>\n",
       "      <td>23.883595</td>\n",
       "      <td>23.883595</td>\n",
       "      <td>23.883595</td>\n",
       "      <td>23.883595</td>\n",
       "      <td>23.883595</td>\n",
       "      <td>0.0</td>\n",
       "      <td>0.0</td>\n",
       "      <td>0.0</td>\n",
       "      <td>0.0</td>\n",
       "      <td>0.0</td>\n",
       "      <td>0.0</td>\n",
       "    </tr>\n",
       "    <tr>\n",
       "      <th>SWD Status</th>\n",
       "      <td>11.852752</td>\n",
       "      <td>11.852752</td>\n",
       "      <td>11.852752</td>\n",
       "      <td>11.852752</td>\n",
       "      <td>11.852752</td>\n",
       "      <td>11.852752</td>\n",
       "      <td>0.0</td>\n",
       "      <td>0.0</td>\n",
       "      <td>0.0</td>\n",
       "      <td>0.0</td>\n",
       "      <td>0.0</td>\n",
       "      <td>0.0</td>\n",
       "    </tr>\n",
       "    <tr>\n",
       "      <th>Gender</th>\n",
       "      <td>6.253210</td>\n",
       "      <td>6.253210</td>\n",
       "      <td>6.253210</td>\n",
       "      <td>6.253210</td>\n",
       "      <td>6.253210</td>\n",
       "      <td>6.253210</td>\n",
       "      <td>0.0</td>\n",
       "      <td>0.0</td>\n",
       "      <td>0.0</td>\n",
       "      <td>0.0</td>\n",
       "      <td>0.0</td>\n",
       "      <td>0.0</td>\n",
       "    </tr>\n",
       "    <tr>\n",
       "      <th>All Students</th>\n",
       "      <td>4.363670</td>\n",
       "      <td>4.363670</td>\n",
       "      <td>4.363670</td>\n",
       "      <td>4.363670</td>\n",
       "      <td>4.363670</td>\n",
       "      <td>4.363670</td>\n",
       "      <td>0.0</td>\n",
       "      <td>0.0</td>\n",
       "      <td>0.0</td>\n",
       "      <td>0.0</td>\n",
       "      <td>0.0</td>\n",
       "      <td>0.0</td>\n",
       "    </tr>\n",
       "  </tbody>\n",
       "</table>\n",
       "</div>"
      ],
      "text/plain": [
       "                            DBN  School Name      Grade       Year  \\\n",
       "Demographic Category                                                 \n",
       "Ethnicity             44.979061    44.979061  44.979061  44.979061   \n",
       "ELL Status            32.406313    32.406313  32.406313  32.406313   \n",
       "Poverty               23.883595    23.883595  23.883595  23.883595   \n",
       "SWD Status            11.852752    11.852752  11.852752  11.852752   \n",
       "Gender                 6.253210     6.253210   6.253210   6.253210   \n",
       "All Students           4.363670     4.363670   4.363670   4.363670   \n",
       "\n",
       "                      Demographic Variable  # Total Days  # Days Absent  \\\n",
       "Demographic Category                                                      \n",
       "Ethnicity                        44.979061     44.979061            0.0   \n",
       "ELL Status                       32.406313     32.406313            0.0   \n",
       "Poverty                          23.883595     23.883595            0.0   \n",
       "SWD Status                       11.852752     11.852752            0.0   \n",
       "Gender                            6.253210      6.253210            0.0   \n",
       "All Students                      4.363670      4.363670            0.0   \n",
       "\n",
       "                      # Days Present  % Attendance  \\\n",
       "Demographic Category                                 \n",
       "Ethnicity                        0.0           0.0   \n",
       "ELL Status                       0.0           0.0   \n",
       "Poverty                          0.0           0.0   \n",
       "SWD Status                       0.0           0.0   \n",
       "Gender                           0.0           0.0   \n",
       "All Students                     0.0           0.0   \n",
       "\n",
       "                      # Contributing 20+ Total Days  # Chronically Absent  \\\n",
       "Demographic Category                                                        \n",
       "Ethnicity                                       0.0                   0.0   \n",
       "ELL Status                                      0.0                   0.0   \n",
       "Poverty                                         0.0                   0.0   \n",
       "SWD Status                                      0.0                   0.0   \n",
       "Gender                                          0.0                   0.0   \n",
       "All Students                                    0.0                   0.0   \n",
       "\n",
       "                      % Chronically Absent  \n",
       "Demographic Category                        \n",
       "Ethnicity                              0.0  \n",
       "ELL Status                             0.0  \n",
       "Poverty                                0.0  \n",
       "SWD Status                             0.0  \n",
       "Gender                                 0.0  \n",
       "All Students                           0.0  "
      ]
     },
     "execution_count": 259,
     "metadata": {},
     "output_type": "execute_result"
    }
   ],
   "source": [
    "#groupby different variables to try and pick up trends to learn more about the NaNs\n",
    "#data subset for NaNs compared to the full data set\n",
    "(attendance.loc[attendance['# Days Absent'].isna()].groupby(['Demographic Category']).count() / attendance.groupby(['Demographic Category']).count()*100).sort_values('DBN', ascending=False)"
   ]
  },
  {
   "cell_type": "code",
   "execution_count": null,
   "metadata": {},
   "outputs": [],
   "source": []
  },
  {
   "cell_type": "code",
   "execution_count": 195,
   "metadata": {},
   "outputs": [
    {
     "data": {
      "text/plain": [
       "DBN                               1631\n",
       "School Name                       1627\n",
       "Grade                               15\n",
       "Year                                 6\n",
       "Demographic Category                 6\n",
       "Demographic Variable                14\n",
       "# Total Days                     23033\n",
       "# Days Absent                        0\n",
       "# Days Present                       0\n",
       "% Attendance                         0\n",
       "# Contributing 20+ Total Days        0\n",
       "# Chronically Absent                 0\n",
       "% Chronically Absent                 0\n",
       "dtype: int64"
      ]
     },
     "execution_count": 195,
     "metadata": {},
     "output_type": "execute_result"
    }
   ],
   "source": [
    "attendance.loc[attendance['# Days Absent'].isna()].nunique()"
   ]
  },
  {
   "cell_type": "code",
   "execution_count": 196,
   "metadata": {},
   "outputs": [
    {
     "data": {
      "text/plain": [
       "DBN                               1631\n",
       "School Name                       1627\n",
       "Grade                               15\n",
       "Year                                 6\n",
       "Demographic Category                 6\n",
       "Demographic Variable                14\n",
       "# Total Days                     86622\n",
       "# Days Absent                    16802\n",
       "# Days Present                   81134\n",
       "% Attendance                       665\n",
       "# Contributing 20+ Total Days     2440\n",
       "# Chronically Absent               934\n",
       "% Chronically Absent               984\n",
       "dtype: int64"
      ]
     },
     "execution_count": 196,
     "metadata": {},
     "output_type": "execute_result"
    }
   ],
   "source": [
    "attendance.nunique()"
   ]
  },
  {
   "cell_type": "code",
   "execution_count": 133,
   "metadata": {},
   "outputs": [],
   "source": [
    "#separate each school year into it's own dataframe\n",
    "df_13_14 = attendance.loc[attendance['Year'] == '2013-14']\n",
    "df_14_15 = attendance.loc[attendance['Year'] == '2014-15']\n",
    "df_15_16 = attendance.loc[attendance['Year'] == '2015-16']\n",
    "df_16_17 = attendance.loc[attendance['Year'] == '2016-17']\n",
    "df_17_18 = attendance.loc[attendance['Year'] == '2017-18']\n",
    "df_18_19 = attendance.loc[attendance['Year'] == '2018-19']"
   ]
  },
  {
   "cell_type": "code",
   "execution_count": 144,
   "metadata": {},
   "outputs": [],
   "source": [
    "#rename % Chronically Absent columns for merge\n",
    "df_14_15_next = df_14_15.rename(columns= {'% Chronically Absent': 'Next Year % Chronically Absent'})\n",
    "df_15_16_next = df_15_16.rename(columns= {'% Chronically Absent': 'Next Year % Chronically Absent'})\n",
    "df_16_17_next = df_16_17.rename(columns= {'% Chronically Absent': 'Next Year % Chronically Absent'})\n",
    "df_17_18_next = df_17_18.rename(columns= {'% Chronically Absent': 'Next Year % Chronically Absent'})\n",
    "df_18_19_next = df_18_19.rename(columns= {'% Chronically Absent': 'Next Year % Chronically Absent'})"
   ]
  },
  {
   "cell_type": "code",
   "execution_count": 166,
   "metadata": {},
   "outputs": [
    {
     "data": {
      "text/plain": [
       "DBN                                  0\n",
       "School Name                          0\n",
       "Grade                                0\n",
       "Year                                 0\n",
       "Demographic Category                 0\n",
       "Demographic Variable                 0\n",
       "# Total Days                         0\n",
       "# Days Absent                    38330\n",
       "# Days Present                   38330\n",
       "% Attendance                     38330\n",
       "# Contributing 20+ Total Days    38330\n",
       "# Chronically Absent             39277\n",
       "% Chronically Absent             39277\n",
       "dtype: int64"
      ]
     },
     "execution_count": 166,
     "metadata": {},
     "output_type": "execute_result"
    }
   ],
   "source": [
    "df_13_14.isna().sum()"
   ]
  },
  {
   "cell_type": "code",
   "execution_count": 171,
   "metadata": {},
   "outputs": [
    {
     "data": {
      "text/plain": [
       "Index(['DBN', 'School Name', 'Grade', 'Year', 'Demographic Category',\n",
       "       'Demographic Variable', '# Total Days', '# Days Absent',\n",
       "       '# Days Present', '% Attendance', '# Contributing 20+ Total Days',\n",
       "       '# Chronically Absent', 'Next Year % Chronically Absent'],\n",
       "      dtype='object')"
      ]
     },
     "execution_count": 171,
     "metadata": {},
     "output_type": "execute_result"
    }
   ],
   "source": [
    "df_14_15_next.columns"
   ]
  },
  {
   "cell_type": "code",
   "execution_count": 172,
   "metadata": {},
   "outputs": [],
   "source": [
    "#merge data frames so each has the next year's %chronically absent column\n",
    "df_13_14_hasNext = pd.merge(df_13_14, df_14_15_next.drop(['Year', '# Total Days', '# Days Absent', '# Days Present', '% Attendance', '# Chronically Absent', '# Contributing 20+ Total Days'], axis=1), how='left', on=['DBN', 'School Name', 'Grade', 'Demographic Category', 'Demographic Variable'])\n",
    "df_14_15_hasNext = pd.merge(df_14_15, df_15_16_next.drop(['Year', '# Total Days', '# Days Absent', '# Days Present', '% Attendance', '# Chronically Absent', '# Contributing 20+ Total Days'], axis=1), how='left', on=['DBN', 'School Name', 'Grade', 'Demographic Category', 'Demographic Variable'])\n",
    "df_15_16_hasNext = pd.merge(df_15_16, df_16_17_next.drop(['Year', '# Total Days', '# Days Absent', '# Days Present', '% Attendance', '# Chronically Absent', '# Contributing 20+ Total Days'], axis=1), how='left', on=['DBN', 'School Name', 'Grade', 'Demographic Category', 'Demographic Variable'])\n",
    "df_16_17_hasNext = pd.merge(df_16_17, df_17_18_next.drop(['Year', '# Total Days', '# Days Absent', '# Days Present', '% Attendance', '# Chronically Absent', '# Contributing 20+ Total Days'], axis=1), how='left', on=['DBN', 'School Name', 'Grade', 'Demographic Category', 'Demographic Variable'])\n",
    "df_17_18_hasNext = pd.merge(df_17_18, df_18_19_next.drop(['Year', '# Total Days', '# Days Absent', '# Days Present', '% Attendance', '# Chronically Absent', '# Contributing 20+ Total Days'], axis=1), how='left', on=['DBN', 'School Name', 'Grade', 'Demographic Category', 'Demographic Variable'])"
   ]
  },
  {
   "cell_type": "code",
   "execution_count": 177,
   "metadata": {},
   "outputs": [
    {
     "name": "stdout",
     "output_type": "stream",
     "text": [
      "<class 'pandas.core.frame.DataFrame'>\n",
      "Int64Index: 824146 entries, 0 to 824145\n",
      "Data columns (total 14 columns):\n",
      " #   Column                          Non-Null Count   Dtype  \n",
      "---  ------                          --------------   -----  \n",
      " 0   DBN                             824146 non-null  object \n",
      " 1   School Name                     824146 non-null  object \n",
      " 2   Grade                           824146 non-null  object \n",
      " 3   Year                            824146 non-null  object \n",
      " 4   Demographic Category            824146 non-null  object \n",
      " 5   Demographic Variable            824146 non-null  object \n",
      " 6   # Total Days                    824146 non-null  int64  \n",
      " 7   # Days Absent                   608419 non-null  float64\n",
      " 8   # Days Present                  608419 non-null  float64\n",
      " 9   % Attendance                    608419 non-null  float64\n",
      " 10  # Contributing 20+ Total Days   608419 non-null  float64\n",
      " 11  # Chronically Absent            603416 non-null  float64\n",
      " 12  % Chronically Absent            603416 non-null  float64\n",
      " 13  Next Year % Chronically Absent  501544 non-null  float64\n",
      "dtypes: float64(7), int64(1), object(6)\n",
      "memory usage: 94.3+ MB\n"
     ]
    }
   ],
   "source": [
    "#concat each year's data frame into one larger data frame\n",
    "#new single data frame has 'Next Year % Chronically Absent' for each row'\n",
    "df = pd.concat([df_13_14_hasNext, df_14_15_hasNext, df_15_16_hasNext, df_16_17_hasNext, df_17_18_hasNext, df_18_19])\n",
    "df.info()"
   ]
  },
  {
   "cell_type": "code",
   "execution_count": null,
   "metadata": {},
   "outputs": [],
   "source": [
    "#duplicate values"
   ]
  },
  {
   "cell_type": "code",
   "execution_count": null,
   "metadata": {},
   "outputs": [],
   "source": [
    "#make new categorical variable for % chronically absent\n",
    "'''\n",
    "# defining function to check price \n",
    "def fun(num): \n",
    "  \n",
    "    if num<200: \n",
    "        return \"Low\"\n",
    "  \n",
    "    elif num>= 200 and num<400: \n",
    "        return \"Normal\"\n",
    "  \n",
    "    else: \n",
    "        return \"High\"\n",
    "  \n",
    "# passing function to apply and storing returned series in new \n",
    "new = s.apply(fun) \n",
    "'''"
   ]
  },
  {
   "cell_type": "markdown",
   "metadata": {},
   "source": [
    "### Things to Explore Further\n",
    "- DBN has 4 more unique values than School Name\n",
    "- what does 's' mean in absence data?, need to sub with NaNs - all are ~26%\n",
    "- what does '# Contributing 20+ Days' column represent? (maybe number of students that were present or absent 20+ Days?\n",
    "    - need to get total student count for by school per year to find out\n",
    "- #Total Days/# Days Absent/# Days Present/# Contributing 20+ Days/# Total Days/# Chronically Absent have HUGE outliers, highly skewed"
   ]
  },
  {
   "cell_type": "markdown",
   "metadata": {},
   "source": [
    "## Summary "
   ]
  },
  {
   "cell_type": "code",
   "execution_count": null,
   "metadata": {},
   "outputs": [],
   "source": [
    "#get package that makes comments into summary for me!!"
   ]
  }
 ],
 "metadata": {
  "kernelspec": {
   "display_name": "Python 3",
   "language": "python",
   "name": "python3"
  },
  "language_info": {
   "codemirror_mode": {
    "name": "ipython",
    "version": 3
   },
   "file_extension": ".py",
   "mimetype": "text/x-python",
   "name": "python",
   "nbconvert_exporter": "python",
   "pygments_lexer": "ipython3",
   "version": "3.7.6"
  }
 },
 "nbformat": 4,
 "nbformat_minor": 4
}
